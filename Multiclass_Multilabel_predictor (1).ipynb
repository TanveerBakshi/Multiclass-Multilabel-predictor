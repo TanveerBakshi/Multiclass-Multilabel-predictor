{
  "nbformat": 4,
  "nbformat_minor": 0,
  "metadata": {
    "colab": {
      "provenance": []
    },
    "kernelspec": {
      "name": "python3",
      "display_name": "Python 3"
    },
    "language_info": {
      "name": "python"
    }
  },
  "cells": [
    {
      "cell_type": "code",
      "execution_count": 1,
      "metadata": {
        "id": "lTcxTINRHk7e",
        "colab": {
          "base_uri": "https://localhost:8080/",
          "height": 0
        },
        "outputId": "9bd8472b-262c-4ac8-fbe1-c14084334067"
      },
      "outputs": [
        {
          "output_type": "stream",
          "name": "stdout",
          "text": [
            "Drive already mounted at /content/drive; to attempt to forcibly remount, call drive.mount(\"/content/drive\", force_remount=True).\n"
          ]
        }
      ],
      "source": [
        "from google.colab import drive\n",
        "drive.mount('/content/drive')"
      ]
    },
    {
      "cell_type": "code",
      "source": [
        "\n",
        "data_path = '/content/drive/MyDrive/stacksample/'\n"
      ],
      "metadata": {
        "id": "n20hyqAghsKX"
      },
      "execution_count": 2,
      "outputs": []
    },
    {
      "cell_type": "code",
      "source": [
        "import pandas as pd\n",
        "questions_df = pd.read_csv(data_path + 'Questions.csv', encoding='ISO-8859-1')\n",
        "tags_df = pd.read_csv(data_path + 'Tags.csv', encoding='ISO-8859-1')\n",
        "print(\"Questions:\")\n",
        "print(questions_df.head())\n",
        "print(\"\\nTags:\")\n",
        "print(tags_df.head())"
      ],
      "metadata": {
        "colab": {
          "base_uri": "https://localhost:8080/",
          "height": 0
        },
        "id": "JKy25TvjZKuv",
        "outputId": "4d4c0da7-ed08-41f6-ea25-33dfb2518500"
      },
      "execution_count": 3,
      "outputs": [
        {
          "output_type": "stream",
          "name": "stdout",
          "text": [
            "Questions:\n",
            "    Id  OwnerUserId          CreationDate            ClosedDate  Score  \\\n",
            "0   80         26.0  2008-08-01T13:57:07Z                   NaN     26   \n",
            "1   90         58.0  2008-08-01T14:41:24Z  2012-12-26T03:45:49Z    144   \n",
            "2  120         83.0  2008-08-01T15:50:08Z                   NaN     21   \n",
            "3  180    2089740.0  2008-08-01T18:42:19Z                   NaN     53   \n",
            "4  260         91.0  2008-08-01T23:22:08Z                   NaN     49   \n",
            "\n",
            "                                               Title  \\\n",
            "0  SQLStatement.execute() - multiple queries in o...   \n",
            "1  Good branching and merging tutorials for Torto...   \n",
            "2                                  ASP.NET Site Maps   \n",
            "3                 Function for creating color wheels   \n",
            "4  Adding scripting functionality to .NET applica...   \n",
            "\n",
            "                                                Body  \n",
            "0  <p>I've written a database generation script i...  \n",
            "1  <p>Are there any really good tutorials explain...  \n",
            "2  <p>Has anyone got experience creating <strong>...  \n",
            "3  <p>This is something I've pseudo-solved many t...  \n",
            "4  <p>I have a little game written in C#. It uses...  \n",
            "\n",
            "Tags:\n",
            "   Id             Tag\n",
            "0  80            flex\n",
            "1  80  actionscript-3\n",
            "2  80             air\n",
            "3  90             svn\n",
            "4  90     tortoisesvn\n"
          ]
        }
      ]
    },
    {
      "cell_type": "code",
      "source": [
        "\n",
        "top_tags = tags_df['Tag'].value_counts().head(10).index.tolist()\n",
        "filtered_tags_df = tags_df[tags_df['Tag'].isin(top_tags)]\n",
        "print(f\"Top 10 tags: {top_tags}\")"
      ],
      "metadata": {
        "colab": {
          "base_uri": "https://localhost:8080/",
          "height": 0
        },
        "id": "CkUL4QV8Mp4f",
        "outputId": "41da939e-04e5-4aa3-b515-907750ce39e2"
      },
      "execution_count": 4,
      "outputs": [
        {
          "output_type": "stream",
          "name": "stdout",
          "text": [
            "Top 10 tags: ['javascript', 'java', 'c#', 'php', 'android', 'jquery', 'python', 'html', 'c++', 'ios']\n"
          ]
        }
      ]
    },
    {
      "cell_type": "code",
      "source": [
        "# Merge the questions and filtered tags based on the question ID\n",
        "merged_df = pd.merge(questions_df, filtered_tags_df, left_on='Id', right_on='Id')\n",
        "print(merged_df.head())"
      ],
      "metadata": {
        "colab": {
          "base_uri": "https://localhost:8080/",
          "height": 0
        },
        "id": "JTOZlOZcMxLe",
        "outputId": "60bbfa48-da76-4760-8c52-30fea1fa6f64"
      },
      "execution_count": 5,
      "outputs": [
        {
          "output_type": "stream",
          "name": "stdout",
          "text": [
            "     Id  OwnerUserId          CreationDate ClosedDate  Score  \\\n",
            "0   260         91.0  2008-08-01T23:22:08Z        NaN     49   \n",
            "1   330         63.0  2008-08-02T02:51:36Z        NaN     29   \n",
            "2   650        143.0  2008-08-03T11:12:52Z        NaN     79   \n",
            "3   930        245.0  2008-08-04T00:47:25Z        NaN     28   \n",
            "4  1010         67.0  2008-08-04T03:59:42Z        NaN     14   \n",
            "\n",
            "                                               Title  \\\n",
            "0  Adding scripting functionality to .NET applica...   \n",
            "1          Should I use nested classes in this case?   \n",
            "2                Automatically update version number   \n",
            "3  How do I connect to a database and loop over a...   \n",
            "4  How to get the value of built, encoded ViewState?   \n",
            "\n",
            "                                                Body  Tag  \n",
            "0  <p>I have a little game written in C#. It uses...   c#  \n",
            "1  <p>I am working on a collection of classes use...  c++  \n",
            "2  <p>I would like the version property of my app...   c#  \n",
            "3  <p>What's the simplest way to connect and quer...   c#  \n",
            "4  <p>I need to grab the base64-encoded represent...   c#  \n"
          ]
        }
      ]
    },
    {
      "cell_type": "code",
      "source": [
        "import nltk\n",
        "\n",
        "# Downloading the necessary NLTK data\n",
        "nltk.download('punkt')\n",
        "nltk.download('stopwords')\n",
        "nltk.download('wordnet')\n",
        "nltk.download('omw-1.4')  # Optional WordNet dependencies\n",
        "nltk.download('averaged_perceptron_tagger')  # For POS tagging, if needed\n"
      ],
      "metadata": {
        "colab": {
          "base_uri": "https://localhost:8080/",
          "height": 0
        },
        "id": "kGGGx8VMM124",
        "outputId": "cad7c1c7-4a11-4cf5-d320-772a117794e3"
      },
      "execution_count": 6,
      "outputs": [
        {
          "output_type": "stream",
          "name": "stderr",
          "text": [
            "[nltk_data] Downloading package punkt to /root/nltk_data...\n",
            "[nltk_data]   Package punkt is already up-to-date!\n",
            "[nltk_data] Downloading package stopwords to /root/nltk_data...\n",
            "[nltk_data]   Package stopwords is already up-to-date!\n",
            "[nltk_data] Downloading package wordnet to /root/nltk_data...\n",
            "[nltk_data]   Package wordnet is already up-to-date!\n",
            "[nltk_data] Downloading package omw-1.4 to /root/nltk_data...\n",
            "[nltk_data]   Package omw-1.4 is already up-to-date!\n",
            "[nltk_data] Downloading package averaged_perceptron_tagger to\n",
            "[nltk_data]     /root/nltk_data...\n",
            "[nltk_data]   Package averaged_perceptron_tagger is already up-to-\n",
            "[nltk_data]       date!\n"
          ]
        },
        {
          "output_type": "execute_result",
          "data": {
            "text/plain": [
              "True"
            ]
          },
          "metadata": {},
          "execution_count": 6
        }
      ]
    },
    {
      "cell_type": "code",
      "source": [],
      "metadata": {
        "id": "tg4sQ-yiNaAp"
      },
      "execution_count": 6,
      "outputs": []
    },
    {
      "cell_type": "code",
      "source": [
        "import nltk\n",
        "from nltk.corpus import stopwords\n",
        "from nltk.tokenize import word_tokenize\n",
        "from nltk.stem import WordNetLemmatizer\n",
        "import re\n",
        "\n",
        "\n",
        "# Initialize lemmatizer and stopwords\n",
        "lemmatizer = WordNetLemmatizer()\n",
        "stop_words = set(stopwords.words('english'))\n",
        "\n",
        "# Define the clean_text function\n",
        "def clean_text(text):\n",
        "    # Convert to lowercase\n",
        "    text = text.lower()\n",
        "    # Remove HTML tags\n",
        "    text = re.sub(r'<.*?>', '', text)\n",
        "    # Remove non-alphanumeric characters\n",
        "    text = re.sub(r'[^a-zA-Z0-9\\s]', '', text)\n",
        "    # Tokenize text\n",
        "    words = word_tokenize(text)\n",
        "    # Remove stopwords and lemmatize\n",
        "    words = [lemmatizer.lemmatize(word) for word in words if word not in stop_words]\n",
        "    # Join words back into a single string\n",
        "    return ' '.join(words)\n",
        "\n"
      ],
      "metadata": {
        "id": "BSW2QROPN1rd"
      },
      "execution_count": 7,
      "outputs": []
    },
    {
      "cell_type": "code",
      "source": [
        "!rm -rf /root/nltk_data"
      ],
      "metadata": {
        "id": "ShF1fjJ2OpRZ"
      },
      "execution_count": 12,
      "outputs": []
    },
    {
      "cell_type": "code",
      "source": [
        "import nltk\n",
        "\n",
        "# Downloading the necessary NLTK packages again\n",
        "nltk.download('punkt')\n",
        "nltk.download('stopwords')\n",
        "nltk.download('wordnet')\n",
        "nltk.download('omw-1.4')\n",
        "nltk.download('averaged_perceptron_tagger')\n"
      ],
      "metadata": {
        "colab": {
          "base_uri": "https://localhost:8080/",
          "height": 0
        },
        "id": "Db3W98RzQK9M",
        "outputId": "8bac1fb2-fc3c-40f8-a324-58c29d8dd9e7"
      },
      "execution_count": 13,
      "outputs": [
        {
          "output_type": "stream",
          "name": "stderr",
          "text": [
            "[nltk_data] Downloading package punkt to /root/nltk_data...\n",
            "[nltk_data]   Package punkt is already up-to-date!\n",
            "[nltk_data] Downloading package stopwords to /root/nltk_data...\n",
            "[nltk_data]   Package stopwords is already up-to-date!\n",
            "[nltk_data] Downloading package wordnet to /root/nltk_data...\n",
            "[nltk_data]   Package wordnet is already up-to-date!\n",
            "[nltk_data] Downloading package omw-1.4 to /root/nltk_data...\n",
            "[nltk_data]   Package omw-1.4 is already up-to-date!\n",
            "[nltk_data] Downloading package averaged_perceptron_tagger to\n",
            "[nltk_data]     /root/nltk_data...\n",
            "[nltk_data]   Package averaged_perceptron_tagger is already up-to-\n",
            "[nltk_data]       date!\n"
          ]
        },
        {
          "output_type": "execute_result",
          "data": {
            "text/plain": [
              "True"
            ]
          },
          "metadata": {},
          "execution_count": 13
        }
      ]
    },
    {
      "cell_type": "code",
      "source": [
        "!rm -rf /root/nltk_data\n"
      ],
      "metadata": {
        "id": "wzaFadQJQOAh"
      },
      "execution_count": 15,
      "outputs": []
    },
    {
      "cell_type": "code",
      "source": [
        "!wget https://raw.githubusercontent.com/nltk/nltk_data/gh-pages/packages/corpora/stopwords.zip\n",
        "!unzip stopwords.zip -d /root/nltk_data/corpora/\n"
      ],
      "metadata": {
        "colab": {
          "base_uri": "https://localhost:8080/",
          "height": 0
        },
        "id": "aMAHveP4QsiP",
        "outputId": "05fa3ec8-0bf0-4ad2-a570-27073581364e"
      },
      "execution_count": 16,
      "outputs": [
        {
          "output_type": "stream",
          "name": "stdout",
          "text": [
            "--2024-11-18 07:53:10--  https://raw.githubusercontent.com/nltk/nltk_data/gh-pages/packages/corpora/stopwords.zip\n",
            "Resolving raw.githubusercontent.com (raw.githubusercontent.com)... 185.199.110.133, 185.199.111.133, 185.199.109.133, ...\n",
            "Connecting to raw.githubusercontent.com (raw.githubusercontent.com)|185.199.110.133|:443... connected.\n",
            "HTTP request sent, awaiting response... 200 OK\n",
            "Length: 34276 (33K) [application/zip]\n",
            "Saving to: ‘stopwords.zip’\n",
            "\n",
            "\rstopwords.zip         0%[                    ]       0  --.-KB/s               \rstopwords.zip       100%[===================>]  33.47K  --.-KB/s    in 0.002s  \n",
            "\n",
            "2024-11-18 07:53:10 (18.9 MB/s) - ‘stopwords.zip’ saved [34276/34276]\n",
            "\n",
            "Archive:  stopwords.zip\n",
            "checkdir:  cannot create extraction directory: /root/nltk_data/corpora\n",
            "           No such file or directory\n"
          ]
        }
      ]
    },
    {
      "cell_type": "code",
      "source": [
        "import os\n",
        "print(os.path.exists('/root/nltk_data/corpora/stopwords'))\n",
        "print(os.listdir('/root/nltk_data/corpora/stopwords'))\n",
        "\n",
        "from nltk.corpus import stopwords\n",
        "stop_words = set(stopwords.words('english'))\n",
        "print(\"Stopwords loaded successfully!\")\n"
      ],
      "metadata": {
        "colab": {
          "base_uri": "https://localhost:8080/",
          "height": 228
        },
        "id": "FDJMckhkQxLy",
        "outputId": "19ab46a6-0654-40af-f31f-426e96a45437"
      },
      "execution_count": 17,
      "outputs": [
        {
          "output_type": "stream",
          "name": "stdout",
          "text": [
            "False\n"
          ]
        },
        {
          "output_type": "error",
          "ename": "FileNotFoundError",
          "evalue": "[Errno 2] No such file or directory: '/root/nltk_data/corpora/stopwords'",
          "traceback": [
            "\u001b[0;31m---------------------------------------------------------------------------\u001b[0m",
            "\u001b[0;31mFileNotFoundError\u001b[0m                         Traceback (most recent call last)",
            "\u001b[0;32m<ipython-input-17-6095cc2b4999>\u001b[0m in \u001b[0;36m<cell line: 3>\u001b[0;34m()\u001b[0m\n\u001b[1;32m      1\u001b[0m \u001b[0;32mimport\u001b[0m \u001b[0mos\u001b[0m\u001b[0;34m\u001b[0m\u001b[0;34m\u001b[0m\u001b[0m\n\u001b[1;32m      2\u001b[0m \u001b[0mprint\u001b[0m\u001b[0;34m(\u001b[0m\u001b[0mos\u001b[0m\u001b[0;34m.\u001b[0m\u001b[0mpath\u001b[0m\u001b[0;34m.\u001b[0m\u001b[0mexists\u001b[0m\u001b[0;34m(\u001b[0m\u001b[0;34m'/root/nltk_data/corpora/stopwords'\u001b[0m\u001b[0;34m)\u001b[0m\u001b[0;34m)\u001b[0m\u001b[0;34m\u001b[0m\u001b[0;34m\u001b[0m\u001b[0m\n\u001b[0;32m----> 3\u001b[0;31m \u001b[0mprint\u001b[0m\u001b[0;34m(\u001b[0m\u001b[0mos\u001b[0m\u001b[0;34m.\u001b[0m\u001b[0mlistdir\u001b[0m\u001b[0;34m(\u001b[0m\u001b[0;34m'/root/nltk_data/corpora/stopwords'\u001b[0m\u001b[0;34m)\u001b[0m\u001b[0;34m)\u001b[0m\u001b[0;34m\u001b[0m\u001b[0;34m\u001b[0m\u001b[0m\n\u001b[0m\u001b[1;32m      4\u001b[0m \u001b[0;34m\u001b[0m\u001b[0m\n\u001b[1;32m      5\u001b[0m \u001b[0;32mfrom\u001b[0m \u001b[0mnltk\u001b[0m\u001b[0;34m.\u001b[0m\u001b[0mcorpus\u001b[0m \u001b[0;32mimport\u001b[0m \u001b[0mstopwords\u001b[0m\u001b[0;34m\u001b[0m\u001b[0;34m\u001b[0m\u001b[0m\n",
            "\u001b[0;31mFileNotFoundError\u001b[0m: [Errno 2] No such file or directory: '/root/nltk_data/corpora/stopwords'"
          ]
        }
      ]
    },
    {
      "cell_type": "code",
      "source": [
        "import nltk\n",
        "import os\n",
        "\n",
        "# Create a custom directory\n",
        "nltk_data_dir = '/content/nltk_data'\n",
        "os.makedirs(nltk_data_dir, exist_ok=True)\n",
        "\n",
        "# Download stopwords into the new directory\n",
        "nltk.download('stopwords', download_dir=nltk_data_dir)\n",
        "nltk.download('punkt', download_dir=nltk_data_dir)\n",
        "nltk.download('wordnet', download_dir=nltk_data_dir)\n",
        "nltk.download('omw-1.4', download_dir=nltk_data_dir)\n",
        "nltk.download('averaged_perceptron_tagger', download_dir=nltk_data_dir)\n",
        "\n",
        "# Verify if stopwords are downloaded\n",
        "print(os.listdir(f\"{nltk_data_dir}/corpora/stopwords\"))\n"
      ],
      "metadata": {
        "colab": {
          "base_uri": "https://localhost:8080/",
          "height": 0
        },
        "id": "zuxPFJFdQ5bd",
        "outputId": "955f5715-fcee-4ed5-9844-f49859acadee"
      },
      "execution_count": 18,
      "outputs": [
        {
          "output_type": "stream",
          "name": "stderr",
          "text": [
            "[nltk_data] Downloading package stopwords to /content/nltk_data...\n",
            "[nltk_data]   Unzipping corpora/stopwords.zip.\n",
            "[nltk_data] Downloading package punkt to /content/nltk_data...\n",
            "[nltk_data]   Unzipping tokenizers/punkt.zip.\n",
            "[nltk_data] Downloading package wordnet to /content/nltk_data...\n",
            "[nltk_data] Downloading package omw-1.4 to /content/nltk_data...\n",
            "[nltk_data] Downloading package averaged_perceptron_tagger to\n",
            "[nltk_data]     /content/nltk_data...\n",
            "[nltk_data]   Unzipping taggers/averaged_perceptron_tagger.zip.\n"
          ]
        },
        {
          "output_type": "stream",
          "name": "stdout",
          "text": [
            "['hebrew', 'azerbaijani', 'english', 'arabic', 'tajik', 'slovene', 'russian', 'portuguese', 'romanian', 'nepali', 'basque', 'german', 'kazakh', 'norwegian', 'danish', 'indonesian', 'chinese', 'catalan', 'italian', 'spanish', 'dutch', 'french', 'finnish', 'swedish', 'bengali', 'turkish', 'hungarian', 'README', 'greek', 'hinglish']\n"
          ]
        }
      ]
    },
    {
      "cell_type": "code",
      "source": [
        "!pip install stopwordsiso\n",
        "\n",
        "import stopwordsiso as stopwords\n",
        "stop_words = stopwords.stopwords(\"en\")\n",
        "print(\"Alternative stopwords loaded successfully!\")\n",
        "\n"
      ],
      "metadata": {
        "colab": {
          "base_uri": "https://localhost:8080/",
          "height": 0
        },
        "id": "YTUBvlTIQ8l5",
        "outputId": "a3fa1daa-2715-4597-9707-d9138a06800c"
      },
      "execution_count": 20,
      "outputs": [
        {
          "output_type": "stream",
          "name": "stdout",
          "text": [
            "Collecting stopwordsiso\n",
            "  Downloading stopwordsiso-0.6.1-py3-none-any.whl.metadata (2.5 kB)\n",
            "Downloading stopwordsiso-0.6.1-py3-none-any.whl (73 kB)\n",
            "\u001b[?25l   \u001b[90m━━━━━━━━━━━━━━━━━━━━━━━━━━━━━━━━━━━━━━━━\u001b[0m \u001b[32m0.0/73.5 kB\u001b[0m \u001b[31m?\u001b[0m eta \u001b[36m-:--:--\u001b[0m\r\u001b[2K   \u001b[90m━━━━━━━━━━━━━━━━━━━━━━━━━━━━━━━━━━━━━━━━\u001b[0m \u001b[32m73.5/73.5 kB\u001b[0m \u001b[31m6.8 MB/s\u001b[0m eta \u001b[36m0:00:00\u001b[0m\n",
            "\u001b[?25hInstalling collected packages: stopwordsiso\n",
            "Successfully installed stopwordsiso-0.6.1\n",
            "Alternative stopwords loaded successfully!\n"
          ]
        }
      ]
    },
    {
      "cell_type": "code",
      "source": [
        "import re\n",
        "from nltk.stem import WordNetLemmatizer\n",
        "lemmatizer = WordNetLemmatizer()\n",
        "\n",
        "# Function to clean the text\n",
        "def clean_text(text):\n",
        "    text = text.lower()\n",
        "    text = re.sub(r'<.*?>', '', text)\n",
        "    text = re.sub(r'http\\S+|www\\S+|https\\S+', '', text)\n",
        "    text = re.sub(r'[^a-zA-Z\\s]', '', text)\n",
        "    words = text.split()\n",
        "    words = [word for word in words if word not in stop_words]\n",
        "    words = [lemmatizer.lemmatize(word) for word in words]\n",
        "\n",
        "\n"
      ],
      "metadata": {
        "id": "BM9iAeVRRD7L"
      },
      "execution_count": 21,
      "outputs": []
    },
    {
      "cell_type": "code",
      "source": [
        "print(merged_df.columns)"
      ],
      "metadata": {
        "colab": {
          "base_uri": "https://localhost:8080/",
          "height": 0
        },
        "id": "7FSllA4yRZyv",
        "outputId": "a1f42b56-d5a4-47b7-c17e-1d02070696ca"
      },
      "execution_count": 24,
      "outputs": [
        {
          "output_type": "stream",
          "name": "stdout",
          "text": [
            "Index(['Id', 'OwnerUserId', 'CreationDate', 'ClosedDate', 'Score', 'Title',\n",
            "       'Body', 'Tag'],\n",
            "      dtype='object')\n"
          ]
        }
      ]
    },
    {
      "cell_type": "code",
      "source": [
        "\n",
        "merged_df['Cleaned_Body'] = merged_df['Body'].apply(clean_text)\n",
        "\n",
        "print(merged_df[['Body', 'Cleaned_Body']].head())\n"
      ],
      "metadata": {
        "colab": {
          "base_uri": "https://localhost:8080/",
          "height": 0
        },
        "id": "M-sWROI3R__Y",
        "outputId": "de3d4632-52c1-4b8b-9724-d733c03d9dac"
      },
      "execution_count": 25,
      "outputs": [
        {
          "output_type": "stream",
          "name": "stdout",
          "text": [
            "                                                Body Cleaned_Body\n",
            "0  <p>I have a little game written in C#. It uses...         None\n",
            "1  <p>I am working on a collection of classes use...         None\n",
            "2  <p>I would like the version property of my app...         None\n",
            "3  <p>What's the simplest way to connect and quer...         None\n",
            "4  <p>I need to grab the base64-encoded represent...         None\n"
          ]
        }
      ]
    },
    {
      "cell_type": "code",
      "source": [
        "from sklearn.model_selection import train_test_split\n",
        "\n",
        "X = merged_df['Cleaned_Body']\n",
        "y = merged_df['Tag'].apply(lambda x: [tag for tag in x.split(',')])\n",
        "\n",
        "X_train, X_val, y_train, y_val = train_test_split(X, y, test_size=0.2, random_state=42)\n",
        "\n",
        "print(f\"Training data size: {len(X_train)}\")\n",
        "print(f\"Validation data size: {len(X_val)}\")\n"
      ],
      "metadata": {
        "colab": {
          "base_uri": "https://localhost:8080/",
          "height": 0
        },
        "id": "TT13mE8BTmLY",
        "outputId": "6169e7d3-e59b-49e9-895e-80cfc884c277"
      },
      "execution_count": 27,
      "outputs": [
        {
          "output_type": "stream",
          "name": "stdout",
          "text": [
            "Training data size: 661391\n",
            "Validation data size: 165348\n"
          ]
        }
      ]
    },
    {
      "cell_type": "code",
      "source": [
        "from sklearn.feature_extraction.text import TfidfVectorizer\n",
        "\n",
        "# Initialize the vectorizer\n",
        "vectorizer = TfidfVectorizer(max_features=5000)  # Limit to 5000 features for faster computation\n",
        "\n",
        "# Fit and transform the training data\n",
        "X_train_vect = vectorizer.fit_transform(X_train)\n",
        "\n",
        "# Transform the validation data\n",
        "X_val_vect = vectorizer.transform(X_val)\n",
        "\n",
        "print(f\"Feature matrix shape for training data: {X_train_vect.shape}\")\n",
        "print(f\"Feature matrix shape for validation data: {X_val_vect.shape}\")\n"
      ],
      "metadata": {
        "colab": {
          "base_uri": "https://localhost:8080/",
          "height": 963
        },
        "id": "fj0oQwZkT8Jt",
        "outputId": "757b1f35-517d-421a-e890-ec1f2b6b6320"
      },
      "execution_count": 28,
      "outputs": [
        {
          "output_type": "error",
          "ename": "AttributeError",
          "evalue": "'NoneType' object has no attribute 'lower'",
          "traceback": [
            "\u001b[0;31m---------------------------------------------------------------------------\u001b[0m",
            "\u001b[0;31mAttributeError\u001b[0m                            Traceback (most recent call last)",
            "\u001b[0;32m<ipython-input-28-732868e72f16>\u001b[0m in \u001b[0;36m<cell line: 7>\u001b[0;34m()\u001b[0m\n\u001b[1;32m      5\u001b[0m \u001b[0;34m\u001b[0m\u001b[0m\n\u001b[1;32m      6\u001b[0m \u001b[0;31m# Fit and transform the training data\u001b[0m\u001b[0;34m\u001b[0m\u001b[0;34m\u001b[0m\u001b[0m\n\u001b[0;32m----> 7\u001b[0;31m \u001b[0mX_train_vect\u001b[0m \u001b[0;34m=\u001b[0m \u001b[0mvectorizer\u001b[0m\u001b[0;34m.\u001b[0m\u001b[0mfit_transform\u001b[0m\u001b[0;34m(\u001b[0m\u001b[0mX_train\u001b[0m\u001b[0;34m)\u001b[0m\u001b[0;34m\u001b[0m\u001b[0;34m\u001b[0m\u001b[0m\n\u001b[0m\u001b[1;32m      8\u001b[0m \u001b[0;34m\u001b[0m\u001b[0m\n\u001b[1;32m      9\u001b[0m \u001b[0;31m# Transform the validation data\u001b[0m\u001b[0;34m\u001b[0m\u001b[0;34m\u001b[0m\u001b[0m\n",
            "\u001b[0;32m/usr/local/lib/python3.10/dist-packages/sklearn/feature_extraction/text.py\u001b[0m in \u001b[0;36mfit_transform\u001b[0;34m(self, raw_documents, y)\u001b[0m\n\u001b[1;32m   2089\u001b[0m             \u001b[0msublinear_tf\u001b[0m\u001b[0;34m=\u001b[0m\u001b[0mself\u001b[0m\u001b[0;34m.\u001b[0m\u001b[0msublinear_tf\u001b[0m\u001b[0;34m,\u001b[0m\u001b[0;34m\u001b[0m\u001b[0;34m\u001b[0m\u001b[0m\n\u001b[1;32m   2090\u001b[0m         )\n\u001b[0;32m-> 2091\u001b[0;31m         \u001b[0mX\u001b[0m \u001b[0;34m=\u001b[0m \u001b[0msuper\u001b[0m\u001b[0;34m(\u001b[0m\u001b[0;34m)\u001b[0m\u001b[0;34m.\u001b[0m\u001b[0mfit_transform\u001b[0m\u001b[0;34m(\u001b[0m\u001b[0mraw_documents\u001b[0m\u001b[0;34m)\u001b[0m\u001b[0;34m\u001b[0m\u001b[0;34m\u001b[0m\u001b[0m\n\u001b[0m\u001b[1;32m   2092\u001b[0m         \u001b[0mself\u001b[0m\u001b[0;34m.\u001b[0m\u001b[0m_tfidf\u001b[0m\u001b[0;34m.\u001b[0m\u001b[0mfit\u001b[0m\u001b[0;34m(\u001b[0m\u001b[0mX\u001b[0m\u001b[0;34m)\u001b[0m\u001b[0;34m\u001b[0m\u001b[0;34m\u001b[0m\u001b[0m\n\u001b[1;32m   2093\u001b[0m         \u001b[0;31m# X is already a transformed view of raw_documents so\u001b[0m\u001b[0;34m\u001b[0m\u001b[0;34m\u001b[0m\u001b[0m\n",
            "\u001b[0;32m/usr/local/lib/python3.10/dist-packages/sklearn/base.py\u001b[0m in \u001b[0;36mwrapper\u001b[0;34m(estimator, *args, **kwargs)\u001b[0m\n\u001b[1;32m   1471\u001b[0m                 )\n\u001b[1;32m   1472\u001b[0m             ):\n\u001b[0;32m-> 1473\u001b[0;31m                 \u001b[0;32mreturn\u001b[0m \u001b[0mfit_method\u001b[0m\u001b[0;34m(\u001b[0m\u001b[0mestimator\u001b[0m\u001b[0;34m,\u001b[0m \u001b[0;34m*\u001b[0m\u001b[0margs\u001b[0m\u001b[0;34m,\u001b[0m \u001b[0;34m**\u001b[0m\u001b[0mkwargs\u001b[0m\u001b[0;34m)\u001b[0m\u001b[0;34m\u001b[0m\u001b[0;34m\u001b[0m\u001b[0m\n\u001b[0m\u001b[1;32m   1474\u001b[0m \u001b[0;34m\u001b[0m\u001b[0m\n\u001b[1;32m   1475\u001b[0m         \u001b[0;32mreturn\u001b[0m \u001b[0mwrapper\u001b[0m\u001b[0;34m\u001b[0m\u001b[0;34m\u001b[0m\u001b[0m\n",
            "\u001b[0;32m/usr/local/lib/python3.10/dist-packages/sklearn/feature_extraction/text.py\u001b[0m in \u001b[0;36mfit_transform\u001b[0;34m(self, raw_documents, y)\u001b[0m\n\u001b[1;32m   1370\u001b[0m                     \u001b[0;32mbreak\u001b[0m\u001b[0;34m\u001b[0m\u001b[0;34m\u001b[0m\u001b[0m\n\u001b[1;32m   1371\u001b[0m \u001b[0;34m\u001b[0m\u001b[0m\n\u001b[0;32m-> 1372\u001b[0;31m         \u001b[0mvocabulary\u001b[0m\u001b[0;34m,\u001b[0m \u001b[0mX\u001b[0m \u001b[0;34m=\u001b[0m \u001b[0mself\u001b[0m\u001b[0;34m.\u001b[0m\u001b[0m_count_vocab\u001b[0m\u001b[0;34m(\u001b[0m\u001b[0mraw_documents\u001b[0m\u001b[0;34m,\u001b[0m \u001b[0mself\u001b[0m\u001b[0;34m.\u001b[0m\u001b[0mfixed_vocabulary_\u001b[0m\u001b[0;34m)\u001b[0m\u001b[0;34m\u001b[0m\u001b[0;34m\u001b[0m\u001b[0m\n\u001b[0m\u001b[1;32m   1373\u001b[0m \u001b[0;34m\u001b[0m\u001b[0m\n\u001b[1;32m   1374\u001b[0m         \u001b[0;32mif\u001b[0m \u001b[0mself\u001b[0m\u001b[0;34m.\u001b[0m\u001b[0mbinary\u001b[0m\u001b[0;34m:\u001b[0m\u001b[0;34m\u001b[0m\u001b[0;34m\u001b[0m\u001b[0m\n",
            "\u001b[0;32m/usr/local/lib/python3.10/dist-packages/sklearn/feature_extraction/text.py\u001b[0m in \u001b[0;36m_count_vocab\u001b[0;34m(self, raw_documents, fixed_vocab)\u001b[0m\n\u001b[1;32m   1257\u001b[0m         \u001b[0;32mfor\u001b[0m \u001b[0mdoc\u001b[0m \u001b[0;32min\u001b[0m \u001b[0mraw_documents\u001b[0m\u001b[0;34m:\u001b[0m\u001b[0;34m\u001b[0m\u001b[0;34m\u001b[0m\u001b[0m\n\u001b[1;32m   1258\u001b[0m             \u001b[0mfeature_counter\u001b[0m \u001b[0;34m=\u001b[0m \u001b[0;34m{\u001b[0m\u001b[0;34m}\u001b[0m\u001b[0;34m\u001b[0m\u001b[0;34m\u001b[0m\u001b[0m\n\u001b[0;32m-> 1259\u001b[0;31m             \u001b[0;32mfor\u001b[0m \u001b[0mfeature\u001b[0m \u001b[0;32min\u001b[0m \u001b[0manalyze\u001b[0m\u001b[0;34m(\u001b[0m\u001b[0mdoc\u001b[0m\u001b[0;34m)\u001b[0m\u001b[0;34m:\u001b[0m\u001b[0;34m\u001b[0m\u001b[0;34m\u001b[0m\u001b[0m\n\u001b[0m\u001b[1;32m   1260\u001b[0m                 \u001b[0;32mtry\u001b[0m\u001b[0;34m:\u001b[0m\u001b[0;34m\u001b[0m\u001b[0;34m\u001b[0m\u001b[0m\n\u001b[1;32m   1261\u001b[0m                     \u001b[0mfeature_idx\u001b[0m \u001b[0;34m=\u001b[0m \u001b[0mvocabulary\u001b[0m\u001b[0;34m[\u001b[0m\u001b[0mfeature\u001b[0m\u001b[0;34m]\u001b[0m\u001b[0;34m\u001b[0m\u001b[0;34m\u001b[0m\u001b[0m\n",
            "\u001b[0;32m/usr/local/lib/python3.10/dist-packages/sklearn/feature_extraction/text.py\u001b[0m in \u001b[0;36m_analyze\u001b[0;34m(doc, analyzer, tokenizer, ngrams, preprocessor, decoder, stop_words)\u001b[0m\n\u001b[1;32m    106\u001b[0m     \u001b[0;32melse\u001b[0m\u001b[0;34m:\u001b[0m\u001b[0;34m\u001b[0m\u001b[0;34m\u001b[0m\u001b[0m\n\u001b[1;32m    107\u001b[0m         \u001b[0;32mif\u001b[0m \u001b[0mpreprocessor\u001b[0m \u001b[0;32mis\u001b[0m \u001b[0;32mnot\u001b[0m \u001b[0;32mNone\u001b[0m\u001b[0;34m:\u001b[0m\u001b[0;34m\u001b[0m\u001b[0;34m\u001b[0m\u001b[0m\n\u001b[0;32m--> 108\u001b[0;31m             \u001b[0mdoc\u001b[0m \u001b[0;34m=\u001b[0m \u001b[0mpreprocessor\u001b[0m\u001b[0;34m(\u001b[0m\u001b[0mdoc\u001b[0m\u001b[0;34m)\u001b[0m\u001b[0;34m\u001b[0m\u001b[0;34m\u001b[0m\u001b[0m\n\u001b[0m\u001b[1;32m    109\u001b[0m         \u001b[0;32mif\u001b[0m \u001b[0mtokenizer\u001b[0m \u001b[0;32mis\u001b[0m \u001b[0;32mnot\u001b[0m \u001b[0;32mNone\u001b[0m\u001b[0;34m:\u001b[0m\u001b[0;34m\u001b[0m\u001b[0;34m\u001b[0m\u001b[0m\n\u001b[1;32m    110\u001b[0m             \u001b[0mdoc\u001b[0m \u001b[0;34m=\u001b[0m \u001b[0mtokenizer\u001b[0m\u001b[0;34m(\u001b[0m\u001b[0mdoc\u001b[0m\u001b[0;34m)\u001b[0m\u001b[0;34m\u001b[0m\u001b[0;34m\u001b[0m\u001b[0m\n",
            "\u001b[0;32m/usr/local/lib/python3.10/dist-packages/sklearn/feature_extraction/text.py\u001b[0m in \u001b[0;36m_preprocess\u001b[0;34m(doc, accent_function, lower)\u001b[0m\n\u001b[1;32m     64\u001b[0m     \"\"\"\n\u001b[1;32m     65\u001b[0m     \u001b[0;32mif\u001b[0m \u001b[0mlower\u001b[0m\u001b[0;34m:\u001b[0m\u001b[0;34m\u001b[0m\u001b[0;34m\u001b[0m\u001b[0m\n\u001b[0;32m---> 66\u001b[0;31m         \u001b[0mdoc\u001b[0m \u001b[0;34m=\u001b[0m \u001b[0mdoc\u001b[0m\u001b[0;34m.\u001b[0m\u001b[0mlower\u001b[0m\u001b[0;34m(\u001b[0m\u001b[0;34m)\u001b[0m\u001b[0;34m\u001b[0m\u001b[0;34m\u001b[0m\u001b[0m\n\u001b[0m\u001b[1;32m     67\u001b[0m     \u001b[0;32mif\u001b[0m \u001b[0maccent_function\u001b[0m \u001b[0;32mis\u001b[0m \u001b[0;32mnot\u001b[0m \u001b[0;32mNone\u001b[0m\u001b[0;34m:\u001b[0m\u001b[0;34m\u001b[0m\u001b[0;34m\u001b[0m\u001b[0m\n\u001b[1;32m     68\u001b[0m         \u001b[0mdoc\u001b[0m \u001b[0;34m=\u001b[0m \u001b[0maccent_function\u001b[0m\u001b[0;34m(\u001b[0m\u001b[0mdoc\u001b[0m\u001b[0;34m)\u001b[0m\u001b[0;34m\u001b[0m\u001b[0;34m\u001b[0m\u001b[0m\n",
            "\u001b[0;31mAttributeError\u001b[0m: 'NoneType' object has no attribute 'lower'"
          ]
        }
      ]
    },
    {
      "cell_type": "code",
      "source": [
        "X_train = X_train[X_train.str.strip().str.len() > 0]"
      ],
      "metadata": {
        "id": "bn6EuCm_UWQk"
      },
      "execution_count": 30,
      "outputs": []
    },
    {
      "cell_type": "code",
      "source": [
        "print(X_train.head())"
      ],
      "metadata": {
        "colab": {
          "base_uri": "https://localhost:8080/",
          "height": 0
        },
        "id": "snd33cIIWhXk",
        "outputId": "11066384-003a-4901-a9aa-8fd849f53576"
      },
      "execution_count": 31,
      "outputs": [
        {
          "output_type": "stream",
          "name": "stdout",
          "text": [
            "Series([], Name: Cleaned_Body, dtype: object)\n"
          ]
        }
      ]
    },
    {
      "cell_type": "code",
      "source": [
        "print(merged_df['Cleaned_Body'].isnull().sum())"
      ],
      "metadata": {
        "colab": {
          "base_uri": "https://localhost:8080/",
          "height": 0
        },
        "id": "47VmszZmWuxi",
        "outputId": "c8656b7c-0204-497d-eded-c766116deb10"
      },
      "execution_count": 32,
      "outputs": [
        {
          "output_type": "stream",
          "name": "stdout",
          "text": [
            "826739\n"
          ]
        }
      ]
    },
    {
      "cell_type": "code",
      "source": [
        "merged_df['Cleaned_Body'] = merged_df['Body'].apply(clean_text)"
      ],
      "metadata": {
        "id": "oIg-QehyW6iA"
      },
      "execution_count": 33,
      "outputs": []
    },
    {
      "cell_type": "code",
      "source": [
        "print(merged_df['Cleaned_Body'].isnull().sum())"
      ],
      "metadata": {
        "colab": {
          "base_uri": "https://localhost:8080/",
          "height": 0
        },
        "id": "evfd2iEJes13",
        "outputId": "063357fb-629f-4305-ef54-e8ba59475c4d"
      },
      "execution_count": 34,
      "outputs": [
        {
          "output_type": "stream",
          "name": "stdout",
          "text": [
            "826739\n"
          ]
        }
      ]
    },
    {
      "cell_type": "code",
      "source": [
        "import re\n",
        "from nltk.corpus import stopwords\n",
        "from nltk.stem import WordNetLemmatizer\n",
        "nltk.download('stopwords')\n",
        "nltk.download('punkt')\n",
        "nltk.download('wordnet')\n",
        "lemmatizer = WordNetLemmatizer()\n",
        "stop_words = set(stopwords.words('english'))\n",
        "\n",
        "def clean_text(text):\n",
        "    if not isinstance(text, str):\n",
        "        return ''\n",
        "    text = text.lower()\n",
        "    text = re.sub(r'[^a-zA-Z\\s]', '', text)\n",
        "    words = text.split()\n",
        "    words = [lemmatizer.lemmatize(word) for word in words if word not in stop_words]\n",
        "\n",
        "\n",
        "    return ' '.join(words)\n"
      ],
      "metadata": {
        "colab": {
          "base_uri": "https://localhost:8080/",
          "height": 0
        },
        "id": "rKZQow9Fe4kY",
        "outputId": "80f54d7a-10c9-4aa3-a0cc-439f76adbf9b"
      },
      "execution_count": 36,
      "outputs": [
        {
          "output_type": "stream",
          "name": "stderr",
          "text": [
            "[nltk_data] Downloading package stopwords to /root/nltk_data...\n",
            "[nltk_data]   Unzipping corpora/stopwords.zip.\n",
            "[nltk_data] Downloading package punkt to /root/nltk_data...\n",
            "[nltk_data]   Unzipping tokenizers/punkt.zip.\n",
            "[nltk_data] Downloading package wordnet to /root/nltk_data...\n"
          ]
        }
      ]
    },
    {
      "cell_type": "code",
      "source": [
        "print(merged_df['Cleaned_Body'].isnull().sum())\n",
        "print((merged_df['Cleaned_Body'] == '').sum())"
      ],
      "metadata": {
        "colab": {
          "base_uri": "https://localhost:8080/",
          "height": 0
        },
        "id": "wlZ51_y1fLE0",
        "outputId": "07c4acf5-3989-488b-bc80-4494aa96b47f"
      },
      "execution_count": 37,
      "outputs": [
        {
          "output_type": "stream",
          "name": "stdout",
          "text": [
            "826739\n",
            "0\n"
          ]
        }
      ]
    },
    {
      "cell_type": "code",
      "source": [
        "print(merged_df['Body'].head(20))"
      ],
      "metadata": {
        "colab": {
          "base_uri": "https://localhost:8080/",
          "height": 0
        },
        "id": "E3Pzxwd5fXDU",
        "outputId": "6b686e06-f8ae-4cdf-e39f-f5a7e8ecf399"
      },
      "execution_count": 38,
      "outputs": [
        {
          "output_type": "stream",
          "name": "stdout",
          "text": [
            "0     <p>I have a little game written in C#. It uses...\n",
            "1     <p>I am working on a collection of classes use...\n",
            "2     <p>I would like the version property of my app...\n",
            "3     <p>What's the simplest way to connect and quer...\n",
            "4     <p>I need to grab the base64-encoded represent...\n",
            "5     <p>I'm looking for a way to delete a file whic...\n",
            "6     <p>Getting back into a bit more .NET after a f...\n",
            "7     <p>I currently use a DataTable to get results ...\n",
            "8     <p>How do you disable <code>autocomplete</code...\n",
            "9     <p>Let's say that we have an ARGB color:</p>\\n...\n",
            "10    <p>I am getting the following error:</p>\\n\\n<b...\n",
            "11    <p>I'm having trouble figuring out how to get ...\n",
            "12    <p>I'm wondering how to make a release build t...\n",
            "13    <p>What code analysis tools do you use on your...\n",
            "14    <p>Is there available any tool for PHP which c...\n",
            "15    <p>How is it possible to make prototype method...\n",
            "16    <p>Example: I have two shared objects (same sh...\n",
            "17    <p>I am new to C# and am doing some work in an...\n",
            "18    <p>My organization has a form to allow users t...\n",
            "19    <p>I'm developing a Sharepoint application and...\n",
            "Name: Body, dtype: object\n"
          ]
        }
      ]
    },
    {
      "cell_type": "code",
      "source": [
        "import re\n",
        "from nltk.corpus import stopwords\n",
        "from nltk.stem import WordNetLemmatizer\n",
        "from bs4 import BeautifulSoup\n",
        "\n",
        "lemmatizer = WordNetLemmatizer()\n",
        "stop_words = set(stopwords.words('english'))\n",
        "\n",
        "def clean_text(text):\n",
        "\n",
        "    if not isinstance(text, str):\n",
        "        return ''\n",
        "    text = BeautifulSoup(text, \"html.parser\").get_text()\n",
        "    text = text.lower()\n",
        "    text = re.sub(r'[^a-zA-Z\\s]', '', text)\n",
        "    words = text.split()\n",
        "    words = [lemmatizer.lemmatize(word) for word in words if word not in stop_words]\n",
        "    return ' '.join(words) if words else ''\n"
      ],
      "metadata": {
        "id": "nXHNfNnKfiPd"
      },
      "execution_count": 39,
      "outputs": []
    },
    {
      "cell_type": "code",
      "source": [
        "!pip install beautifulsoup4"
      ],
      "metadata": {
        "colab": {
          "base_uri": "https://localhost:8080/",
          "height": 0
        },
        "id": "zC1PwWDLfmXr",
        "outputId": "2690aab6-33b9-4732-cc1c-471a2aad8f0c"
      },
      "execution_count": 40,
      "outputs": [
        {
          "output_type": "stream",
          "name": "stdout",
          "text": [
            "Requirement already satisfied: beautifulsoup4 in /usr/local/lib/python3.10/dist-packages (4.12.3)\n",
            "Requirement already satisfied: soupsieve>1.2 in /usr/local/lib/python3.10/dist-packages (from beautifulsoup4) (2.6)\n"
          ]
        }
      ]
    },
    {
      "cell_type": "code",
      "source": [],
      "metadata": {
        "id": "NqVq6EB0fpi7"
      },
      "execution_count": 48,
      "outputs": []
    },
    {
      "cell_type": "code",
      "source": [
        "print(merged_df['Cleaned_Body'].isnull().sum())\n",
        "print((merged_df['Cleaned_Body'] == '').sum())"
      ],
      "metadata": {
        "colab": {
          "base_uri": "https://localhost:8080/",
          "height": 0
        },
        "id": "q8e-2Bc1oZQI",
        "outputId": "468cc77f-275d-4242-c695-eb239bf2f965"
      },
      "execution_count": 43,
      "outputs": [
        {
          "output_type": "stream",
          "name": "stdout",
          "text": [
            "0\n",
            "5\n"
          ]
        }
      ]
    },
    {
      "cell_type": "code",
      "source": [
        "from sklearn.feature_extraction.text import TfidfVectorizer\n",
        "vectorizer = TfidfVectorizer(max_features=5000)\n",
        "X = vectorizer.fit_transform(merged_df['Cleaned_Body'])\n",
        "\n",
        "print(f\"Shape of the vectorized data: {X.shape}\")"
      ],
      "metadata": {
        "colab": {
          "base_uri": "https://localhost:8080/",
          "height": 0
        },
        "id": "fQk5vQzBofRt",
        "outputId": "bb958e7f-48c4-46bf-dca8-0f33e20a13e3"
      },
      "execution_count": 44,
      "outputs": [
        {
          "output_type": "stream",
          "name": "stdout",
          "text": [
            "Shape of the vectorized data: (826739, 5000)\n"
          ]
        }
      ]
    },
    {
      "cell_type": "code",
      "source": [
        "from sklearn.preprocessing import MultiLabelBinarizer\n",
        "y = merged_df['Tag'].apply(lambda x: x.split(','))\n",
        "mlb = MultiLabelBinarizer()\n",
        "y = mlb.fit_transform(y)\n",
        "\n",
        "print(f\"Shape of the label data: {y.shape}\")\n"
      ],
      "metadata": {
        "colab": {
          "base_uri": "https://localhost:8080/",
          "height": 0
        },
        "id": "x3zj5trLpLCM",
        "outputId": "4f7f9875-43e4-4024-aba7-1087e83207a7"
      },
      "execution_count": 45,
      "outputs": [
        {
          "output_type": "stream",
          "name": "stdout",
          "text": [
            "Shape of the label data: (826739, 10)\n"
          ]
        }
      ]
    },
    {
      "cell_type": "code",
      "source": [
        "from sklearn.model_selection import train_test_split\n",
        "X_train, X_val, y_train, y_val = train_test_split(X, y, test_size=0.2, random_state=42)\n",
        "print(f\"Training set shape: {X_train.shape}, Validation set shape: {X_val.shape}\")\n"
      ],
      "metadata": {
        "colab": {
          "base_uri": "https://localhost:8080/",
          "height": 0
        },
        "id": "zyeur_wSpUoQ",
        "outputId": "c5308a60-469b-45f7-d332-aea3c2d20341"
      },
      "execution_count": 46,
      "outputs": [
        {
          "output_type": "stream",
          "name": "stdout",
          "text": [
            "Training set shape: (661391, 5000), Validation set shape: (165348, 5000)\n"
          ]
        }
      ]
    },
    {
      "cell_type": "code",
      "source": [
        "from sklearn.linear_model import LogisticRegression\n",
        "from sklearn.multiclass import OneVsRestClassifier\n",
        "from sklearn.metrics import accuracy_score\n",
        "\n",
        "\n",
        "classifier = OneVsRestClassifier(LogisticRegression(max_iter=1000))\n",
        "\n",
        "classifier.fit(X_train, y_train)\n",
        "y_pred = classifier.predict(X_val)\n",
        "\n",
        "accuracy = accuracy_score(y_val, y_pred)\n",
        "print(f\"Accuracy: {accuracy}\")\n"
      ],
      "metadata": {
        "colab": {
          "base_uri": "https://localhost:8080/",
          "height": 0
        },
        "id": "w6Vmo--cpZTa",
        "outputId": "3b9f29fe-e597-4107-fd7a-2bcda85a6ee2"
      },
      "execution_count": 47,
      "outputs": [
        {
          "output_type": "stream",
          "name": "stdout",
          "text": [
            "Accuracy: 0.5290478264024966\n"
          ]
        }
      ]
    },
    {
      "cell_type": "code",
      "source": [
        "!git config --global user.name \"TanveerBakshi\"\n",
        "!git config --global user.email \"tbakshi_be20@thapar.edu\""
      ],
      "metadata": {
        "id": "eIATNuPWq0WK"
      },
      "execution_count": 49,
      "outputs": []
    },
    {
      "cell_type": "code",
      "source": [],
      "metadata": {
        "colab": {
          "base_uri": "https://localhost:8080/",
          "height": 0
        },
        "id": "8VUeQUvqs84k",
        "outputId": "3c5ac464-e30b-4198-c146-0867d60a9a8b"
      },
      "execution_count": 53,
      "outputs": [
        {
          "output_type": "stream",
          "name": "stdout",
          "text": [
            "fatal: not a git repository (or any of the parent directories): .git\n"
          ]
        }
      ]
    },
    {
      "cell_type": "code",
      "source": [
        "!git init"
      ],
      "metadata": {
        "colab": {
          "base_uri": "https://localhost:8080/",
          "height": 0
        },
        "id": "9bOrH6-Zu7AK",
        "outputId": "40c69521-a90f-4131-9113-7f6b547303fd"
      },
      "execution_count": 54,
      "outputs": [
        {
          "output_type": "stream",
          "name": "stdout",
          "text": [
            "\u001b[33mhint: Using 'master' as the name for the initial branch. This default branch name\u001b[m\n",
            "\u001b[33mhint: is subject to change. To configure the initial branch name to use in all\u001b[m\n",
            "\u001b[33mhint: of your new repositories, which will suppress this warning, call:\u001b[m\n",
            "\u001b[33mhint: \u001b[m\n",
            "\u001b[33mhint: \tgit config --global init.defaultBranch <name>\u001b[m\n",
            "\u001b[33mhint: \u001b[m\n",
            "\u001b[33mhint: Names commonly chosen instead of 'master' are 'main', 'trunk' and\u001b[m\n",
            "\u001b[33mhint: 'development'. The just-created branch can be renamed via this command:\u001b[m\n",
            "\u001b[33mhint: \u001b[m\n",
            "\u001b[33mhint: \tgit branch -m <name>\u001b[m\n",
            "Initialized empty Git repository in /content/.git/\n"
          ]
        }
      ]
    },
    {
      "cell_type": "code",
      "source": [
        "!git config --global user.name \"TanveerBakshi\"\n",
        "!git config --global user.email \"tbakshi_be20@thapar.edu\""
      ],
      "metadata": {
        "id": "aAIwnwbMty-K"
      },
      "execution_count": 56,
      "outputs": []
    },
    {
      "cell_type": "code",
      "source": [
        "!git add ."
      ],
      "metadata": {
        "id": "5911qLQ9vJSF"
      },
      "execution_count": 57,
      "outputs": []
    },
    {
      "cell_type": "code",
      "source": [
        "!git commit -m \"file\""
      ],
      "metadata": {
        "colab": {
          "base_uri": "https://localhost:8080/",
          "height": 0
        },
        "id": "FWdTfBjvwfBH",
        "outputId": "9a49ef02-aedf-4a55-9506-c26bac5168d8"
      },
      "execution_count": 58,
      "outputs": [
        {
          "output_type": "stream",
          "name": "stdout",
          "text": [
            "[master (root-commit) fa09aea] file\n",
            " 961 files changed, 6284477 insertions(+)\n",
            " create mode 100644 .config/.last_opt_in_prompt.yaml\n",
            " create mode 100644 .config/.last_survey_prompt.yaml\n",
            " create mode 100644 .config/.last_update_check.json\n",
            " create mode 100644 .config/active_config\n",
            " create mode 100644 .config/config_sentinel\n",
            " create mode 100644 .config/configurations/config_default\n",
            " create mode 100644 .config/default_configs.db\n",
            " create mode 100644 .config/gce\n",
            " create mode 100644 .config/hidden_gcloud_config_universe_descriptor_data_cache_configs.db\n",
            " create mode 100644 .config/logs/2024.11.14/14.24.26.637550.log\n",
            " create mode 100644 .config/logs/2024.11.14/14.24.48.387435.log\n",
            " create mode 100644 .config/logs/2024.11.14/14.25.01.300026.log\n",
            " create mode 100644 .config/logs/2024.11.14/14.25.02.296080.log\n",
            " create mode 100644 .config/logs/2024.11.14/14.25.14.950547.log\n",
            " create mode 100644 .config/logs/2024.11.14/14.25.15.677507.log\n",
            " create mode 100644 drive/MyDrive/Colab Notebooks/Untitled0.ipynb\n",
            " create mode 100644 drive/MyDrive/Colab Notebooks/qoura spam filter.ipynb\n",
            " create mode 100644 drive/MyDrive/P5_Image_Captioning/Flicker8k_Dataset/1000268201_693b08cb0e.jpg\n",
            " create mode 100644 drive/MyDrive/P5_Image_Captioning/Flicker8k_Dataset/1001773457_577c3a7d70.jpg\n",
            " create mode 100644 drive/MyDrive/P5_Image_Captioning/Flicker8k_Dataset/1002674143_1b742ab4b8.jpg\n",
            " create mode 100644 drive/MyDrive/P5_Image_Captioning/Flicker8k_Dataset/1003163366_44323f5815.jpg\n",
            " create mode 100644 drive/MyDrive/P5_Image_Captioning/Flicker8k_Dataset/1007129816_e794419615.jpg\n",
            " create mode 100644 drive/MyDrive/P5_Image_Captioning/Flicker8k_Dataset/1007320043_627395c3d8.jpg\n",
            " create mode 100644 drive/MyDrive/P5_Image_Captioning/Flicker8k_Dataset/1009434119_febe49276a.jpg\n",
            " create mode 100644 drive/MyDrive/P5_Image_Captioning/Flicker8k_Dataset/1012212859_01547e3f17.jpg\n",
            " create mode 100644 drive/MyDrive/P5_Image_Captioning/Flicker8k_Dataset/1015118661_980735411b.jpg\n",
            " create mode 100644 drive/MyDrive/P5_Image_Captioning/Flicker8k_Dataset/1015584366_dfcec3c85a.jpg\n",
            " create mode 100644 drive/MyDrive/P5_Image_Captioning/Flicker8k_Dataset/101654506_8eb26cfb60.jpg\n",
            " create mode 100644 drive/MyDrive/P5_Image_Captioning/Flicker8k_Dataset/101669240_b2d3e7f17b.jpg\n",
            " create mode 100644 drive/MyDrive/P5_Image_Captioning/Flicker8k_Dataset/1016887272_03199f49c4.jpg\n",
            " create mode 100644 drive/MyDrive/P5_Image_Captioning/Flicker8k_Dataset/1019077836_6fc9b15408.jpg\n",
            " create mode 100644 drive/MyDrive/P5_Image_Captioning/Flicker8k_Dataset/1019604187_d087bf9a5f.jpg\n",
            " create mode 100644 drive/MyDrive/P5_Image_Captioning/Flicker8k_Dataset/1020651753_06077ec457.jpg\n",
            " create mode 100644 drive/MyDrive/P5_Image_Captioning/Flicker8k_Dataset/1022454332_6af2c1449a.jpg\n",
            " create mode 100644 drive/MyDrive/P5_Image_Captioning/Flicker8k_Dataset/1022454428_b6b660a67b.jpg\n",
            " create mode 100644 drive/MyDrive/P5_Image_Captioning/Flicker8k_Dataset/1022975728_75515238d8.jpg\n",
            " create mode 100644 drive/MyDrive/P5_Image_Captioning/Flicker8k_Dataset/102351840_323e3de834.jpg\n",
            " create mode 100644 drive/MyDrive/P5_Image_Captioning/Flicker8k_Dataset/1024138940_f1fefbdce1.jpg\n",
            " create mode 100644 drive/MyDrive/P5_Image_Captioning/Flicker8k_Dataset/102455176_5f8ead62d5.jpg\n",
            " create mode 100644 drive/MyDrive/P5_Image_Captioning/Flicker8k_Dataset/1026685415_0431cbf574.jpg\n",
            " create mode 100644 drive/MyDrive/P5_Image_Captioning/Flicker8k_Dataset/1028205764_7e8df9a2ea.jpg\n",
            " create mode 100644 drive/MyDrive/P5_Image_Captioning/Flicker8k_Dataset/1030985833_b0902ea560.jpg\n",
            " create mode 100644 drive/MyDrive/P5_Image_Captioning/Flicker8k_Dataset/103106960_e8a41d64f8.jpg\n",
            " create mode 100644 drive/MyDrive/P5_Image_Captioning/Flicker8k_Dataset/103195344_5d2dc613a3.jpg\n",
            " create mode 100644 drive/MyDrive/P5_Image_Captioning/Flicker8k_Dataset/103205630_682ca7285b.jpg\n",
            " create mode 100644 drive/MyDrive/P5_Image_Captioning/Flicker8k_Dataset/1032122270_ea6f0beedb.jpg\n",
            " create mode 100644 drive/MyDrive/P5_Image_Captioning/Flicker8k_Dataset/1032460886_4a598ed535.jpg\n",
            " create mode 100644 drive/MyDrive/P5_Image_Captioning/Flicker8k_Dataset/1034276567_49bb87c51c.jpg\n",
            " create mode 100644 drive/MyDrive/P5_Image_Captioning/Flicker8k_Dataset/104136873_5b5d41be75.jpg\n",
            " create mode 100644 drive/MyDrive/P5_Image_Captioning/Flicker8k_Dataset/1042020065_fb3d3ba5ba.jpg\n",
            " create mode 100644 drive/MyDrive/P5_Image_Captioning/Flicker8k_Dataset/1042590306_95dea0916c.jpg\n",
            " create mode 100644 drive/MyDrive/P5_Image_Captioning/Flicker8k_Dataset/1045521051_108ebc19be.jpg\n",
            " create mode 100644 drive/MyDrive/P5_Image_Captioning/Flicker8k_Dataset/1048710776_bb5b0a5c7c.jpg\n",
            " create mode 100644 drive/MyDrive/P5_Image_Captioning/Flicker8k_Dataset/1052358063_eae6744153.jpg\n",
            " create mode 100644 drive/MyDrive/P5_Image_Captioning/Flicker8k_Dataset/105342180_4d4a40b47f.jpg\n",
            " create mode 100644 drive/MyDrive/P5_Image_Captioning/Flicker8k_Dataset/1053804096_ad278b25f1.jpg\n",
            " create mode 100644 drive/MyDrive/P5_Image_Captioning/Flicker8k_Dataset/1055623002_8195a43714.jpg\n",
            " create mode 100644 drive/MyDrive/P5_Image_Captioning/Flicker8k_Dataset/1055753357_4fa3d8d693.jpg\n",
            " create mode 100644 drive/MyDrive/P5_Image_Captioning/Flicker8k_Dataset/1056249424_ef2a2e041c.jpg\n",
            " create mode 100644 drive/MyDrive/P5_Image_Captioning/Flicker8k_Dataset/1056338697_4f7d7ce270.jpg\n",
            " create mode 100644 drive/MyDrive/P5_Image_Captioning/Flicker8k_Dataset/1056359656_662cee0814.jpg\n",
            " create mode 100644 drive/MyDrive/P5_Image_Captioning/Flicker8k_Dataset/1056873310_49c665eb22.jpg\n",
            " create mode 100644 drive/MyDrive/P5_Image_Captioning/Flicker8k_Dataset/1057089366_ca83da0877.jpg\n",
            " create mode 100644 drive/MyDrive/P5_Image_Captioning/Flicker8k_Dataset/1057210460_09c6f4c6c1.jpg\n",
            " create mode 100644 drive/MyDrive/P5_Image_Captioning/Flicker8k_Dataset/1057251835_6ded4ada9c.jpg\n",
            " create mode 100644 drive/MyDrive/P5_Image_Captioning/Flicker8k_Dataset/106490881_5a2dd9b7bd.jpg\n",
            " create mode 100644 drive/MyDrive/P5_Image_Captioning/Flicker8k_Dataset/106514190_bae200f463.jpg\n",
            " create mode 100644 drive/MyDrive/P5_Image_Captioning/Flicker8k_Dataset/1067180831_a59dc64344.jpg\n",
            " create mode 100644 drive/MyDrive/P5_Image_Captioning/Flicker8k_Dataset/1067675215_7336a694d6.jpg\n",
            " create mode 100644 drive/MyDrive/P5_Image_Captioning/Flicker8k_Dataset/1067790824_f3cc97239b.jpg\n",
            " create mode 100644 drive/MyDrive/P5_Image_Captioning/Flicker8k_Dataset/1072153132_53d2bb1b60.jpg\n",
            " create mode 100644 drive/MyDrive/P5_Image_Captioning/Flicker8k_Dataset/107318069_e9f2ef32de.jpg\n",
            " create mode 100644 drive/MyDrive/P5_Image_Captioning/Flicker8k_Dataset/1075716537_62105738b4.jpg\n",
            " create mode 100644 drive/MyDrive/P5_Image_Captioning/Flicker8k_Dataset/107582366_d86f2d3347.jpg\n",
            " create mode 100644 drive/MyDrive/P5_Image_Captioning/Flicker8k_Dataset/1075867198_27ca2e7efe.jpg\n",
            " create mode 100644 drive/MyDrive/P5_Image_Captioning/Flicker8k_Dataset/1075881101_d55c46bece.jpg\n",
            " create mode 100644 drive/MyDrive/P5_Image_Captioning/Flicker8k_Dataset/1077546505_a4f6c4daa9.jpg\n",
            " create mode 100644 drive/MyDrive/P5_Image_Captioning/Flicker8k_Dataset/1077931201_1e0bb83105.jpg\n",
            " create mode 100644 drive/MyDrive/P5_Image_Captioning/Flicker8k_Dataset/1079274291_9aaf896cc1.jpg\n",
            " create mode 100644 drive/MyDrive/P5_Image_Captioning/Flicker8k_Dataset/10815824_2997e03d76.jpg\n",
            " create mode 100644 drive/MyDrive/P5_Image_Captioning/Flicker8k_Dataset/1082252566_8c79beef93.jpg\n",
            " create mode 100644 drive/MyDrive/P5_Image_Captioning/Flicker8k_Dataset/1082379191_ec1e53f996.jpg\n",
            " create mode 100644 drive/MyDrive/P5_Image_Captioning/Flicker8k_Dataset/1084040636_97d9633581.jpg\n",
            " create mode 100644 drive/MyDrive/P5_Image_Captioning/Flicker8k_Dataset/1084104085_3b06223afe.jpg\n",
            " create mode 100644 drive/MyDrive/P5_Image_Captioning/Flicker8k_Dataset/1087168168_70280d024a.jpg\n",
            " create mode 100644 drive/MyDrive/P5_Image_Captioning/Flicker8k_Dataset/1087539207_9f77ab3aaf.jpg\n",
            " create mode 100644 drive/MyDrive/P5_Image_Captioning/Flicker8k_Dataset/1088767354_2acee738cf.jpg\n",
            " create mode 100644 drive/MyDrive/P5_Image_Captioning/Flicker8k_Dataset/108898978_7713be88fc.jpg\n",
            " create mode 100644 drive/MyDrive/P5_Image_Captioning/Flicker8k_Dataset/108899015_bf36131a57.jpg\n",
            " create mode 100644 drive/MyDrive/P5_Image_Captioning/Flicker8k_Dataset/1089181217_ee1167f7af.jpg\n",
            " create mode 100644 drive/MyDrive/P5_Image_Captioning/Flicker8k_Dataset/1089755335_0bfbfd30e6.jpg\n",
            " create mode 100644 drive/MyDrive/P5_Image_Captioning/Flicker8k_Dataset/109202756_b97fcdc62c.jpg\n",
            " create mode 100644 drive/MyDrive/P5_Image_Captioning/Flicker8k_Dataset/109202801_c6381eef15.jpg\n",
            " create mode 100644 drive/MyDrive/P5_Image_Captioning/Flicker8k_Dataset/109260216_85b0be5378.jpg\n",
            " create mode 100644 drive/MyDrive/P5_Image_Captioning/Flicker8k_Dataset/109260218_fca831f933.jpg\n",
            " create mode 100644 drive/MyDrive/P5_Image_Captioning/Flicker8k_Dataset/1093716555_801aacef79.jpg\n",
            " create mode 100644 drive/MyDrive/P5_Image_Captioning/Flicker8k_Dataset/1093737381_b313cd49ff.jpg\n",
            " create mode 100644 drive/MyDrive/P5_Image_Captioning/Flicker8k_Dataset/1094462889_f9966dafa6.jpg\n",
            " create mode 100644 drive/MyDrive/P5_Image_Captioning/Flicker8k_Dataset/1095476286_87d4f8664e.jpg\n",
            " create mode 100644 drive/MyDrive/P5_Image_Captioning/Flicker8k_Dataset/1095580424_76f0aa8a3e.jpg\n",
            " create mode 100644 drive/MyDrive/P5_Image_Captioning/Flicker8k_Dataset/1095590286_c654f7e5a9.jpg\n",
            " create mode 100644 drive/MyDrive/P5_Image_Captioning/Flicker8k_Dataset/1095980313_3c94799968.jpg\n",
            " create mode 100644 drive/MyDrive/P5_Image_Captioning/Flicker8k_Dataset/1096097967_ac305887b4.jpg\n",
            " create mode 100644 drive/MyDrive/P5_Image_Captioning/Flicker8k_Dataset/1096165011_cc5eb16aa6.jpg\n",
            " create mode 100644 drive/MyDrive/P5_Image_Captioning/Flicker8k_Dataset/1096395242_fc69f0ae5a.jpg\n",
            " create mode 100644 drive/MyDrive/P5_Image_Captioning/Flicker8k_Dataset/109671650_f7bbc297fa.jpg\n",
            " create mode 100644 drive/MyDrive/P5_Image_Captioning/Flicker8k_Dataset/109738763_90541ef30d.jpg\n",
            " create mode 100644 drive/MyDrive/P5_Image_Captioning/Flicker8k_Dataset/109738916_236dc456ac.jpg\n",
            " create mode 100644 drive/MyDrive/P5_Image_Captioning/Flicker8k_Dataset/109823394_83fcb735e1.jpg\n",
            " create mode 100644 drive/MyDrive/P5_Image_Captioning/Flicker8k_Dataset/109823395_6fb423a90f.jpg\n",
            " create mode 100644 drive/MyDrive/P5_Image_Captioning/Flicker8k_Dataset/109823397_e35154645f.jpg\n",
            " create mode 100644 drive/MyDrive/P5_Image_Captioning/Flicker8k_Dataset/1100214449_d10861e633.jpg\n",
            " create mode 100644 drive/MyDrive/P5_Image_Captioning/Flicker8k_Dataset/1104133405_c04a00707f.jpg\n",
            " create mode 100644 drive/MyDrive/P5_Image_Captioning/Flicker8k_Dataset/1105959054_9c3a738096.jpg\n",
            " create mode 100644 drive/MyDrive/P5_Image_Captioning/Flicker8k_Dataset/110595925_f3395c8bd6.jpg\n",
            " create mode 100644 drive/MyDrive/P5_Image_Captioning/Flicker8k_Dataset/1107246521_d16a476380.jpg\n",
            " create mode 100644 drive/MyDrive/P5_Image_Captioning/Flicker8k_Dataset/1107471216_4336c9b328.jpg\n",
            " create mode 100644 drive/MyDrive/P5_Image_Captioning/Flicker8k_Dataset/1110208841_5bb6806afe.jpg\n",
            " create mode 100644 drive/MyDrive/P5_Image_Captioning/Flicker8k_Dataset/1112212364_0c48235fc2.jpg\n",
            " create mode 100644 drive/MyDrive/P5_Image_Captioning/Flicker8k_Dataset/111497985_38e9f88856.jpg\n",
            " create mode 100644 drive/MyDrive/P5_Image_Captioning/Flicker8k_Dataset/111537217_082a4ba060.jpg\n",
            " create mode 100644 drive/MyDrive/P5_Image_Captioning/Flicker8k_Dataset/111537222_07e56d5a30.jpg\n",
            " create mode 100644 drive/MyDrive/P5_Image_Captioning/Flicker8k_Dataset/1115565519_d976d4b1f1.jpg\n",
            " create mode 100644 drive/MyDrive/P5_Image_Captioning/Flicker8k_Dataset/1115679311_245eff2f4b.jpg\n",
            " create mode 100644 drive/MyDrive/P5_Image_Captioning/Flicker8k_Dataset/111766423_4522d36e56.jpg\n",
            " create mode 100644 drive/MyDrive/P5_Image_Captioning/Flicker8k_Dataset/1117972841_2b9261f95f.jpg\n",
            " create mode 100644 drive/MyDrive/P5_Image_Captioning/Flicker8k_Dataset/1118557877_736f339752.jpg\n",
            " create mode 100644 drive/MyDrive/P5_Image_Captioning/Flicker8k_Dataset/1119015538_e8e796281e.jpg\n",
            " create mode 100644 drive/MyDrive/P5_Image_Captioning/Flicker8k_Dataset/1119418776_58e4b93eac.jpg\n",
            " create mode 100644 drive/MyDrive/P5_Image_Captioning/Flicker8k_Dataset/1119463452_69d4eecd08.jpg\n",
            " create mode 100644 drive/MyDrive/P5_Image_Captioning/Flicker8k_Dataset/1121416483_c7902d0d49.jpg\n",
            " create mode 100644 drive/MyDrive/P5_Image_Captioning/Flicker8k_Dataset/112178718_87270d9b4d.jpg\n",
            " create mode 100644 drive/MyDrive/P5_Image_Captioning/Flicker8k_Dataset/112243673_fd68255217.jpg\n",
            " create mode 100644 drive/MyDrive/P5_Image_Captioning/Flicker8k_Dataset/1122944218_8eb3607403.jpg\n",
            " create mode 100644 drive/MyDrive/P5_Image_Captioning/Flicker8k_Dataset/1124448967_2221af8dc5.jpg\n",
            " create mode 100644 drive/MyDrive/P5_Image_Captioning/Flicker8k_Dataset/1129704496_4a61441f2c.jpg\n",
            " create mode 100644 drive/MyDrive/P5_Image_Captioning/Flicker8k_Dataset/1130017585_1a219257ac.jpg\n",
            " create mode 100644 drive/MyDrive/P5_Image_Captioning/Flicker8k_Dataset/1130369873_d80a1aa59c.jpg\n",
            " create mode 100644 drive/MyDrive/P5_Image_Captioning/Flicker8k_Dataset/1130401779_8c30182e3e.jpg\n",
            " create mode 100644 drive/MyDrive/P5_Image_Captioning/Flicker8k_Dataset/1131155939_b4b457b05e.jpg\n",
            " create mode 100644 drive/MyDrive/P5_Image_Captioning/Flicker8k_Dataset/1131340021_83f46b150a.jpg\n",
            " create mode 100644 drive/MyDrive/P5_Image_Captioning/Flicker8k_Dataset/1131800850_89c7ffd477.jpg\n",
            " create mode 100644 drive/MyDrive/P5_Image_Captioning/Flicker8k_Dataset/1131804997_177c3c0640.jpg\n",
            " create mode 100644 drive/MyDrive/P5_Image_Captioning/Flicker8k_Dataset/1131932671_c8d17751b3.jpg\n",
            " create mode 100644 drive/MyDrive/P5_Image_Captioning/Flicker8k_Dataset/1132772170_600610c5df.jpg\n",
            " create mode 100644 drive/MyDrive/P5_Image_Captioning/Flicker8k_Dataset/113678030_87a6a6e42e.jpg\n",
            " create mode 100644 drive/MyDrive/P5_Image_Captioning/Flicker8k_Dataset/1138784872_69ade3f2ab.jpg\n",
            " create mode 100644 drive/MyDrive/P5_Image_Captioning/Flicker8k_Dataset/114051287_dd85625a04.jpg\n",
            " create mode 100644 drive/MyDrive/P5_Image_Captioning/Flicker8k_Dataset/1141718391_24164bf1b1.jpg\n",
            " create mode 100644 drive/MyDrive/P5_Image_Captioning/Flicker8k_Dataset/1141739219_2c47195e4c.jpg\n",
            " create mode 100644 drive/MyDrive/P5_Image_Captioning/Flicker8k_Dataset/1142283988_6b227c5231.jpg\n",
            " create mode 100644 drive/MyDrive/P5_Image_Captioning/Flicker8k_Dataset/1142847777_2a0c1c2551.jpg\n",
            " create mode 100644 drive/MyDrive/P5_Image_Captioning/Flicker8k_Dataset/1143373711_2e90b7b799.jpg\n",
            " create mode 100644 drive/MyDrive/P5_Image_Captioning/Flicker8k_Dataset/1143882946_1898d2eeb9.jpg\n",
            " create mode 100644 drive/MyDrive/P5_Image_Captioning/Flicker8k_Dataset/1144288288_e5c9558b6a.jpg\n",
            " create mode 100644 drive/MyDrive/P5_Image_Captioning/Flicker8k_Dataset/1148238960_f8cacec2fc.jpg\n",
            " create mode 100644 drive/MyDrive/P5_Image_Captioning/Flicker8k_Dataset/1149179852_acad4d7300.jpg\n",
            " create mode 100644 drive/MyDrive/P5_Image_Captioning/Flicker8k_Dataset/114949897_490ca7eaec.jpg\n",
            " create mode 100644 drive/MyDrive/P5_Image_Captioning/Flicker8k_Dataset/1151466868_3bc4d9580b.jpg\n",
            " create mode 100644 drive/MyDrive/P5_Image_Captioning/Flicker8k_Dataset/1153704539_542f7aa3a5.jpg\n",
            " create mode 100644 drive/MyDrive/P5_Image_Captioning/Flicker8k_Dataset/1155138244_859fd6e079.jpg\n",
            " create mode 100644 drive/MyDrive/P5_Image_Captioning/Flicker8k_Dataset/115684808_cb01227802.jpg\n",
            " create mode 100644 drive/MyDrive/P5_Image_Captioning/Flicker8k_Dataset/1159574340_99ba8c3c59.jpg\n",
            " create mode 100644 drive/MyDrive/P5_Image_Captioning/Flicker8k_Dataset/1160034462_16b38174fe.jpg\n",
            " create mode 100644 drive/MyDrive/P5_Image_Captioning/Flicker8k_Dataset/1160441615_fe6b3c5277.jpg\n",
            " create mode 100644 drive/MyDrive/P5_Image_Captioning/Flicker8k_Dataset/1163282319_b729b24c46.jpg\n",
            " create mode 100644 drive/MyDrive/P5_Image_Captioning/Flicker8k_Dataset/116409198_0fe0c94f3b.jpg\n",
            " create mode 100644 drive/MyDrive/P5_Image_Captioning/Flicker8k_Dataset/1164131282_b30926f332.jpg\n",
            " create mode 100644 drive/MyDrive/P5_Image_Captioning/Flicker8k_Dataset/1164765687_7aca07bbe7.jpg\n",
            " create mode 100644 drive/MyDrive/P5_Image_Captioning/Flicker8k_Dataset/1167662968_e466f1e80a.jpg\n",
            " create mode 100644 drive/MyDrive/P5_Image_Captioning/Flicker8k_Dataset/1167669558_87a8a467d6.jpg\n",
            " create mode 100644 drive/MyDrive/P5_Image_Captioning/Flicker8k_Dataset/1167908324_8caab45e15.jpg\n",
            " create mode 100644 drive/MyDrive/P5_Image_Captioning/Flicker8k_Dataset/1169307342_e7a4685a5c.jpg\n",
            " create mode 100644 drive/MyDrive/P5_Image_Captioning/Flicker8k_Dataset/1174525839_7c1e6cfa86.jpg\n",
            " create mode 100644 drive/MyDrive/P5_Image_Captioning/Flicker8k_Dataset/1174629344_a2e1a2bdbf.jpg\n",
            " create mode 100644 drive/MyDrive/P5_Image_Captioning/Flicker8k_Dataset/1176580356_9810d877bf.jpg\n",
            " create mode 100644 drive/MyDrive/P5_Image_Captioning/Flicker8k_Dataset/1177994172_10d143cb8d.jpg\n",
            " create mode 100644 drive/MyDrive/P5_Image_Captioning/Flicker8k_Dataset/1178705300_c224d9a4f1.jpg\n",
            " create mode 100644 drive/MyDrive/P5_Image_Captioning/Flicker8k_Dataset/118187095_d422383c81.jpg\n",
            " create mode 100644 drive/MyDrive/P5_Image_Captioning/Flicker8k_Dataset/118309463_a532b75be9.jpg\n",
            " create mode 100644 drive/MyDrive/P5_Image_Captioning/Flicker8k_Dataset/1184967930_9e29ce380d.jpg\n",
            " create mode 100644 drive/MyDrive/P5_Image_Captioning/Flicker8k_Dataset/1187435567_18173c148b.jpg\n",
            " create mode 100644 drive/MyDrive/P5_Image_Captioning/Flicker8k_Dataset/1187593464_ce862352c6.jpg\n",
            " create mode 100644 drive/MyDrive/P5_Image_Captioning/Flicker8k_Dataset/1189977786_4f5aaed773.jpg\n",
            " create mode 100644 drive/MyDrive/P5_Image_Captioning/Flicker8k_Dataset/1191338263_a4fa073154.jpg\n",
            " create mode 100644 drive/MyDrive/P5_Image_Captioning/Flicker8k_Dataset/1193116658_c0161c35b5.jpg\n",
            " create mode 100644 drive/MyDrive/P5_Image_Captioning/Flicker8k_Dataset/119534510_d52b3781a3.jpg\n",
            " create mode 100644 drive/MyDrive/P5_Image_Captioning/Flicker8k_Dataset/1197800988_7fb0ca4888.jpg\n",
            " create mode 100644 drive/MyDrive/P5_Image_Captioning/Flicker8k_Dataset/1198194316_543cc7b945.jpg\n",
            " create mode 100644 drive/MyDrive/P5_Image_Captioning/Flicker8k_Dataset/1204996216_71d7519d9a.jpg\n",
            " create mode 100644 drive/MyDrive/P5_Image_Captioning/Flicker8k_Dataset/1206506157_c7956accd5.jpg\n",
            " create mode 100644 drive/MyDrive/P5_Image_Captioning/Flicker8k_Dataset/1207159468_425b902bfb.jpg\n",
            " create mode 100644 drive/MyDrive/P5_Image_Captioning/Flicker8k_Dataset/1211015912_9f3ee3a995.jpg\n",
            " create mode 100644 drive/MyDrive/P5_Image_Captioning/Flicker8k_Dataset/1213336750_2269b51397.jpg\n",
            " create mode 100644 drive/MyDrive/P5_Image_Captioning/Flicker8k_Dataset/1215334959_b1970965f7.jpg\n",
            " create mode 100644 drive/MyDrive/P5_Image_Captioning/Flicker8k_Dataset/121800200_bef08fae5f.jpg\n",
            " create mode 100644 drive/MyDrive/P5_Image_Captioning/Flicker8k_Dataset/121971540_0a986ee176.jpg\n",
            " create mode 100644 drive/MyDrive/P5_Image_Captioning/Flicker8k_Dataset/1220401002_3f44b1f3f7.jpg\n",
            " create mode 100644 drive/MyDrive/P5_Image_Captioning/Flicker8k_Dataset/1222322358_225067636e.jpg\n",
            " create mode 100644 drive/MyDrive/P5_Image_Captioning/Flicker8k_Dataset/1224851143_33bcdd299c.jpg\n",
            " create mode 100644 drive/MyDrive/P5_Image_Captioning/Flicker8k_Dataset/1225443522_1633e7121f.jpg\n",
            " create mode 100644 drive/MyDrive/P5_Image_Captioning/Flicker8k_Dataset/1227655020_b11a1bb112.jpg\n",
            " create mode 100644 drive/MyDrive/P5_Image_Captioning/Flicker8k_Dataset/1229756013_94663527d7.jpg\n",
            " create mode 100644 drive/MyDrive/P5_Image_Captioning/Flicker8k_Dataset/1231229740_8dcbf80bfb.jpg\n",
            " create mode 100644 drive/MyDrive/P5_Image_Captioning/Flicker8k_Dataset/1232148178_4f45cc3284.jpg\n",
            " create mode 100644 drive/MyDrive/P5_Image_Captioning/Flicker8k_Dataset/1234293791_6566284bcd.jpg\n",
            " create mode 100644 drive/MyDrive/P5_Image_Captioning/Flicker8k_Dataset/1234817607_924893f6e1.jpg\n",
            " create mode 100644 drive/MyDrive/P5_Image_Captioning/Flicker8k_Dataset/1235580648_7eebaed9bc.jpg\n",
            " create mode 100644 drive/MyDrive/P5_Image_Captioning/Flicker8k_Dataset/1235681222_819231767a.jpg\n",
            " create mode 100644 drive/MyDrive/P5_Image_Captioning/Flicker8k_Dataset/1235685934_be89b231fb.jpg\n",
            " create mode 100644 drive/MyDrive/P5_Image_Captioning/Flicker8k_Dataset/1236951314_0308dc4138.jpg\n",
            " create mode 100644 drive/MyDrive/P5_Image_Captioning/Flicker8k_Dataset/1236964638_1808784a3c.jpg\n",
            " create mode 100644 drive/MyDrive/P5_Image_Captioning/Flicker8k_Dataset/1237985362_dbafc59280.jpg\n",
            " create mode 100644 drive/MyDrive/P5_Image_Captioning/Flicker8k_Dataset/123889082_d3751e0350.jpg\n",
            " create mode 100644 drive/MyDrive/P5_Image_Captioning/Flicker8k_Dataset/123997871_6a9ca987b1.jpg\n",
            " create mode 100644 drive/MyDrive/P5_Image_Captioning/Flicker8k_Dataset/1240297429_c36ae0c58f.jpg\n",
            " create mode 100644 drive/MyDrive/P5_Image_Captioning/Flicker8k_Dataset/124195430_d14028660f.jpg\n",
            " create mode 100644 drive/MyDrive/P5_Image_Captioning/Flicker8k_Dataset/1244140539_da4804d828.jpg\n",
            " create mode 100644 drive/MyDrive/P5_Image_Captioning/Flicker8k_Dataset/1244306891_8e78ae1620.jpg\n",
            " create mode 100644 drive/MyDrive/P5_Image_Captioning/Flicker8k_Dataset/1244485675_822e6efe60.jpg\n",
            " create mode 100644 drive/MyDrive/P5_Image_Captioning/Flicker8k_Dataset/1245022983_fb329886dd.jpg\n",
            " create mode 100644 drive/MyDrive/P5_Image_Captioning/Flicker8k_Dataset/1247181182_35cabd76f3.jpg\n",
            " create mode 100644 drive/MyDrive/P5_Image_Captioning/Flicker8k_Dataset/1248357227_2b4175fc39.jpg\n",
            " create mode 100644 drive/MyDrive/P5_Image_Captioning/Flicker8k_Dataset/1248734482_3038218f3b.jpg\n",
            " create mode 100644 drive/MyDrive/P5_Image_Captioning/Flicker8k_Dataset/124881487_36e668145d.jpg\n",
            " create mode 100644 drive/MyDrive/P5_Image_Captioning/Flicker8k_Dataset/1248940539_46d33ed487.jpg\n",
            " create mode 100644 drive/MyDrive/P5_Image_Captioning/Flicker8k_Dataset/1248953128_24c9f8d924.jpg\n",
            " create mode 100644 drive/MyDrive/P5_Image_Captioning/Flicker8k_Dataset/124972799_de706b6d0b.jpg\n",
            " create mode 100644 drive/MyDrive/P5_Image_Captioning/Flicker8k_Dataset/1251558317_4ef844b775.jpg\n",
            " create mode 100644 drive/MyDrive/P5_Image_Captioning/Flicker8k_Dataset/1252396628_eb81d3905b.jpg\n",
            " create mode 100644 drive/MyDrive/P5_Image_Captioning/Flicker8k_Dataset/1252787177_4b08625897.jpg\n",
            " create mode 100644 drive/MyDrive/P5_Image_Captioning/Flicker8k_Dataset/125319704_49ead3463c.jpg\n",
            " create mode 100644 drive/MyDrive/P5_Image_Captioning/Flicker8k_Dataset/1253264731_e7c689eca5.jpg\n",
            " create mode 100644 drive/MyDrive/P5_Image_Captioning/Flicker8k_Dataset/1253275679_e955fb7304.jpg\n",
            " create mode 100644 drive/MyDrive/P5_Image_Captioning/Flicker8k_Dataset/1255504166_f2437febcb.jpg\n",
            " create mode 100644 drive/MyDrive/P5_Image_Captioning/Flicker8k_Dataset/1258913059_07c613f7ff.jpg\n",
            " create mode 100644 drive/MyDrive/P5_Image_Captioning/Flicker8k_Dataset/1259936608_e3f0064f23.jpg\n",
            " create mode 100644 drive/MyDrive/P5_Image_Captioning/Flicker8k_Dataset/1260816604_570fc35836.jpg\n",
            " create mode 100644 drive/MyDrive/P5_Image_Captioning/Flicker8k_Dataset/1262077938_8b9516c273.jpg\n",
            " create mode 100644 drive/MyDrive/P5_Image_Captioning/Flicker8k_Dataset/1262454669_f1caafec2d.jpg\n",
            " create mode 100644 drive/MyDrive/P5_Image_Captioning/Flicker8k_Dataset/1262583859_653f1469a9.jpg\n",
            " create mode 100644 drive/MyDrive/P5_Image_Captioning/Flicker8k_Dataset/1263126002_881ebd7ac9.jpg\n",
            " create mode 100644 drive/MyDrive/P5_Image_Captioning/Flicker8k_Dataset/1263801010_5c74bf1715.jpg\n",
            " create mode 100644 drive/MyDrive/P5_Image_Captioning/Flicker8k_Dataset/1267711451_e2a754b4f8.jpg\n",
            " create mode 100644 drive/MyDrive/P5_Image_Captioning/Flicker8k_Dataset/1269470943_ba7fc49b4d.jpg\n",
            " create mode 100644 drive/MyDrive/P5_Image_Captioning/Flicker8k_Dataset/1271210445_7f7ecf3791.jpg\n",
            " create mode 100644 drive/MyDrive/P5_Image_Captioning/Flicker8k_Dataset/1271960365_e54033f883.jpg\n",
            " create mode 100644 drive/MyDrive/P5_Image_Captioning/Flicker8k_Dataset/1273001772_1585562051.jpg\n",
            " create mode 100644 drive/MyDrive/P5_Image_Captioning/Flicker8k_Dataset/127450902_533ceeddfc.jpg\n",
            " create mode 100644 drive/MyDrive/P5_Image_Captioning/Flicker8k_Dataset/127488876_f2d2a89588.jpg\n",
            " create mode 100644 drive/MyDrive/P5_Image_Captioning/Flicker8k_Dataset/127490019_7c5c08cb11.jpg\n",
            " create mode 100644 drive/MyDrive/P5_Image_Captioning/Flicker8k_Dataset/1277185009_06478dd457.jpg\n",
            " create mode 100644 drive/MyDrive/P5_Image_Captioning/Flicker8k_Dataset/1277743944_f4e8c78403.jpg\n",
            " create mode 100644 drive/MyDrive/P5_Image_Captioning/Flicker8k_Dataset/1280147517_98767ca3b3.jpg\n",
            " create mode 100644 drive/MyDrive/P5_Image_Captioning/Flicker8k_Dataset/1280320287_b2a4b9b7bd.jpg\n",
            " create mode 100644 drive/MyDrive/P5_Image_Captioning/Flicker8k_Dataset/1282392036_5a0328eb86.jpg\n",
            " create mode 100644 drive/MyDrive/P5_Image_Captioning/Flicker8k_Dataset/12830823_87d2654e31.jpg\n",
            " create mode 100644 drive/MyDrive/P5_Image_Captioning/Flicker8k_Dataset/1285067106_2adc307240.jpg\n",
            " create mode 100644 drive/MyDrive/P5_Image_Captioning/Flicker8k_Dataset/1285874746_486731a954.jpg\n",
            " create mode 100644 drive/MyDrive/P5_Image_Captioning/Flicker8k_Dataset/1286408831_05282582ed.jpg\n",
            " create mode 100644 drive/MyDrive/P5_Image_Captioning/Flicker8k_Dataset/1287064529_aa4e4f3c31.jpg\n",
            " create mode 100644 drive/MyDrive/P5_Image_Captioning/Flicker8k_Dataset/1287073593_f3d2a62455.jpg\n",
            " create mode 100644 drive/MyDrive/P5_Image_Captioning/Flicker8k_Dataset/1287475186_2dee85f1a5.jpg\n",
            " create mode 100644 drive/MyDrive/P5_Image_Captioning/Flicker8k_Dataset/1287920676_d21a0b289b.jpg\n",
            " create mode 100644 drive/MyDrive/P5_Image_Captioning/Flicker8k_Dataset/1287931016_fb015e2e10.jpg\n",
            " create mode 100644 drive/MyDrive/P5_Image_Captioning/Flicker8k_Dataset/1287982439_6578006e22.jpg\n",
            " create mode 100644 drive/MyDrive/P5_Image_Captioning/Flicker8k_Dataset/1288909046_d2b2b62607.jpg\n",
            " create mode 100644 drive/MyDrive/P5_Image_Captioning/Flicker8k_Dataset/128912885_8350d277a4.jpg\n",
            " create mode 100644 drive/MyDrive/P5_Image_Captioning/Flicker8k_Dataset/1289142574_2bd6a082dd.jpg\n",
            " create mode 100644 drive/MyDrive/P5_Image_Captioning/Flicker8k_Dataset/1290894194_8a4ffdc7eb.jpg\n",
            " create mode 100644 drive/MyDrive/P5_Image_Captioning/Flicker8k_Dataset/1294578091_2ad02fea91.jpg\n",
            " create mode 100644 drive/MyDrive/P5_Image_Captioning/Flicker8k_Dataset/1295669416_21cabf594d.jpg\n",
            " create mode 100644 drive/MyDrive/P5_Image_Captioning/Flicker8k_Dataset/1295671216_cde1b9c9d1.jpg\n",
            " create mode 100644 drive/MyDrive/P5_Image_Captioning/Flicker8k_Dataset/1295698260_e10c53c137.jpg\n",
            " create mode 100644 drive/MyDrive/P5_Image_Captioning/Flicker8k_Dataset/129599450_cab4e77343.jpg\n",
            " create mode 100644 drive/MyDrive/P5_Image_Captioning/Flicker8k_Dataset/1296412797_85b6d2f8d6.jpg\n",
            " create mode 100644 drive/MyDrive/P5_Image_Captioning/Flicker8k_Dataset/1296770308_3db2022f5a.jpg\n",
            " create mode 100644 drive/MyDrive/P5_Image_Captioning/Flicker8k_Dataset/1298295313_db1f4c6522.jpg\n",
            " create mode 100644 drive/MyDrive/P5_Image_Captioning/Flicker8k_Dataset/1298866571_b4c496b71c.jpg\n",
            " create mode 100644 drive/MyDrive/P5_Image_Captioning/Flicker8k_Dataset/1299459550_1fd5594fa2.jpg\n",
            " create mode 100644 drive/MyDrive/P5_Image_Captioning/Flicker8k_Dataset/1299459562_ed0e064aee.jpg\n",
            " create mode 100644 drive/MyDrive/P5_Image_Captioning/Flicker8k_Dataset/1301140633_046e4e8010.jpg\n",
            " create mode 100644 drive/MyDrive/P5_Image_Captioning/Flicker8k_Dataset/130211457_be3f6b335d.jpg\n",
            " create mode 100644 drive/MyDrive/P5_Image_Captioning/Flicker8k_Dataset/1302657647_46b36c0d66.jpg\n",
            " create mode 100644 drive/MyDrive/P5_Image_Captioning/Flicker8k_Dataset/1303335399_b3facd47ab.jpg\n",
            " create mode 100644 drive/MyDrive/P5_Image_Captioning/Flicker8k_Dataset/1303548017_47de590273.jpg\n",
            " create mode 100644 drive/MyDrive/P5_Image_Captioning/Flicker8k_Dataset/1303550623_cb43ac044a.jpg\n",
            " create mode 100644 drive/MyDrive/P5_Image_Captioning/Flicker8k_Dataset/1303727066_23d0f6ed43.jpg\n",
            " create mode 100644 drive/MyDrive/P5_Image_Captioning/Flicker8k_Dataset/1303727828_d1052ee341.jpg\n",
            " create mode 100644 drive/MyDrive/P5_Image_Captioning/Flicker8k_Dataset/1304100320_c8990a1539.jpg\n",
            " create mode 100644 drive/MyDrive/P5_Image_Captioning/Flicker8k_Dataset/1304961697_76b86b0c18.jpg\n",
            " create mode 100644 drive/MyDrive/P5_Image_Captioning/Flicker8k_Dataset/1305564994_00513f9a5b.jpg\n",
            " create mode 100644 drive/MyDrive/P5_Image_Captioning/Flicker8k_Dataset/1306145560_1e37081b91.jpg\n",
            " create mode 100644 drive/MyDrive/P5_Image_Captioning/Flicker8k_Dataset/1307635496_94442dc21a.jpg\n",
            " create mode 100644 drive/MyDrive/P5_Image_Captioning/Flicker8k_Dataset/1308472581_9961782889.jpg\n",
            " create mode 100644 drive/MyDrive/P5_Image_Captioning/Flicker8k_Dataset/1308617539_54e1a3dfbe.jpg\n",
            " create mode 100644 drive/MyDrive/P5_Image_Captioning/Flicker8k_Dataset/1309330801_aeeb23f1ee.jpg\n",
            " create mode 100644 drive/MyDrive/P5_Image_Captioning/Flicker8k_Dataset/1311132744_5ffd03f831.jpg\n",
            " create mode 100644 drive/MyDrive/P5_Image_Captioning/Flicker8k_Dataset/1311388430_4ab0cd1a1f.jpg\n",
            " create mode 100644 drive/MyDrive/P5_Image_Captioning/Flicker8k_Dataset/1312020846_5abb4a9be2.jpg\n",
            " create mode 100644 drive/MyDrive/P5_Image_Captioning/Flicker8k_Dataset/1312227131_771b5ed201.jpg\n",
            " create mode 100644 drive/MyDrive/P5_Image_Captioning/Flicker8k_Dataset/1312954382_cf6d70d63a.jpg\n",
            " create mode 100644 drive/MyDrive/P5_Image_Captioning/Flicker8k_Dataset/1313693129_71d0b21c63.jpg\n",
            " create mode 100644 drive/MyDrive/P5_Image_Captioning/Flicker8k_Dataset/1313961775_824b87d155.jpg\n",
            " create mode 100644 drive/MyDrive/P5_Image_Captioning/Flicker8k_Dataset/1316247213_1d2c726dd5.jpg\n",
            " create mode 100644 drive/MyDrive/P5_Image_Captioning/Flicker8k_Dataset/131632409_4de0d4e710.jpg\n",
            " create mode 100644 drive/MyDrive/P5_Image_Captioning/Flicker8k_Dataset/1317292658_ba29330a0b.jpg\n",
            " create mode 100644 drive/MyDrive/P5_Image_Captioning/Flicker8k_Dataset/1319634306_816f21677f.jpg\n",
            " create mode 100644 drive/MyDrive/P5_Image_Captioning/Flicker8k_Dataset/1321723162_9d4c78b8af.jpg\n",
            " create mode 100644 drive/MyDrive/P5_Image_Captioning/Flicker8k_Dataset/1321949151_77b77b4617.jpg\n",
            " create mode 100644 drive/MyDrive/P5_Image_Captioning/Flicker8k_Dataset/1322323208_c7ecb742c6.jpg\n",
            " create mode 100644 drive/MyDrive/P5_Image_Captioning/Flicker8k_Dataset/1324816249_86600a6759.jpg\n",
            " create mode 100644 drive/MyDrive/P5_Image_Captioning/Flicker8k_Dataset/132489044_3be606baf7.jpg\n",
            " create mode 100644 drive/MyDrive/P5_Image_Captioning/Flicker8k_Dataset/1329832826_432538d331.jpg\n",
            " create mode 100644 drive/MyDrive/P5_Image_Captioning/Flicker8k_Dataset/1330645772_24f831ff8f.jpg\n",
            " create mode 100644 drive/MyDrive/P5_Image_Captioning/Flicker8k_Dataset/133189853_811de6ab2a.jpg\n",
            " create mode 100644 drive/MyDrive/P5_Image_Captioning/Flicker8k_Dataset/1332208215_fa824f6659.jpg\n",
            " create mode 100644 drive/MyDrive/P5_Image_Captioning/Flicker8k_Dataset/1332492622_8c66992b62.jpg\n",
            " create mode 100644 drive/MyDrive/P5_Image_Captioning/Flicker8k_Dataset/1332722096_1e3de8ae70.jpg\n",
            " create mode 100644 drive/MyDrive/P5_Image_Captioning/Flicker8k_Dataset/1332815795_8eea44375e.jpg\n",
            " create mode 100644 drive/MyDrive/P5_Image_Captioning/Flicker8k_Dataset/1332823164_c70a5d930e.jpg\n",
            " create mode 100644 drive/MyDrive/P5_Image_Captioning/Flicker8k_Dataset/1333888922_26f15c18c3.jpg\n",
            " create mode 100644 drive/MyDrive/P5_Image_Captioning/Flicker8k_Dataset/1334892555_1beff092c3.jpg\n",
            " create mode 100644 drive/MyDrive/P5_Image_Captioning/Flicker8k_Dataset/1335617803_4fbc03dab0.jpg\n",
            " create mode 100644 drive/MyDrive/P5_Image_Captioning/Flicker8k_Dataset/1337792872_d01a390b33.jpg\n",
            " create mode 100644 drive/MyDrive/P5_Image_Captioning/Flicker8k_Dataset/1338523142_57fce8229b.jpg\n",
            " create mode 100644 drive/MyDrive/P5_Image_Captioning/Flicker8k_Dataset/133905560_9d012b47f3.jpg\n",
            " create mode 100644 drive/MyDrive/P5_Image_Captioning/Flicker8k_Dataset/1339596997_8ac29c1841.jpg\n",
            " create mode 100644 drive/MyDrive/P5_Image_Captioning/Flicker8k_Dataset/1341787777_4f1ebb1793.jpg\n",
            " create mode 100644 drive/MyDrive/P5_Image_Captioning/Flicker8k_Dataset/1342766791_1e72f92455.jpg\n",
            " create mode 100644 drive/MyDrive/P5_Image_Captioning/Flicker8k_Dataset/1342780478_bacc32344d.jpg\n",
            " create mode 100644 drive/MyDrive/P5_Image_Captioning/Flicker8k_Dataset/1343426964_cde3fb54e8.jpg\n",
            " create mode 100644 drive/MyDrive/P5_Image_Captioning/Flicker8k_Dataset/1346051107_9cdc14e070.jpg\n",
            " create mode 100644 drive/MyDrive/P5_Image_Captioning/Flicker8k_Dataset/1346529555_e916816cfe.jpg\n",
            " create mode 100644 drive/MyDrive/P5_Image_Captioning/Flicker8k_Dataset/134724228_30408cd77f.jpg\n",
            " create mode 100644 drive/MyDrive/P5_Image_Captioning/Flicker8k_Dataset/1347519824_e402241e4f.jpg\n",
            " create mode 100644 drive/MyDrive/P5_Image_Captioning/Flicker8k_Dataset/1348113612_5bfc5f429e.jpg\n",
            " create mode 100644 drive/MyDrive/P5_Image_Captioning/Flicker8k_Dataset/1348304997_afe60a61df.jpg\n",
            " create mode 100644 drive/MyDrive/P5_Image_Captioning/Flicker8k_Dataset/1348891916_ebd4413033.jpg\n",
            " create mode 100644 drive/MyDrive/P5_Image_Captioning/Flicker8k_Dataset/134894450_dadea45d65.jpg\n",
            " create mode 100644 drive/MyDrive/P5_Image_Captioning/Flicker8k_Dataset/1348947380_14f0fc1237.jpg\n",
            " create mode 100644 drive/MyDrive/P5_Image_Captioning/Flicker8k_Dataset/1348957576_c4a78eb974.jpg\n",
            " create mode 100644 drive/MyDrive/P5_Image_Captioning/Flicker8k_Dataset/1350811702_2ce7cfd0c5.jpg\n",
            " create mode 100644 drive/MyDrive/P5_Image_Captioning/Flicker8k_Dataset/1350948838_fdebe4ff65.jpg\n",
            " create mode 100644 drive/MyDrive/P5_Image_Captioning/Flicker8k_Dataset/1351315701_6580b51c41.jpg\n",
            " create mode 100644 drive/MyDrive/P5_Image_Captioning/Flicker8k_Dataset/1351764581_4d4fb1b40f.jpg\n",
            " create mode 100644 drive/MyDrive/P5_Image_Captioning/Flicker8k_Dataset/135235570_5698072cd4.jpg\n",
            " create mode 100644 drive/MyDrive/P5_Image_Captioning/Flicker8k_Dataset/1352398363_9cc8ffcce9.jpg\n",
            " create mode 100644 drive/MyDrive/P5_Image_Captioning/Flicker8k_Dataset/1352410176_af6b139734.jpg\n",
            " create mode 100644 drive/MyDrive/P5_Image_Captioning/Flicker8k_Dataset/1354318519_2f9baed754.jpg\n",
            " create mode 100644 drive/MyDrive/P5_Image_Captioning/Flicker8k_Dataset/1355450069_c0675b0706.jpg\n",
            " create mode 100644 drive/MyDrive/P5_Image_Captioning/Flicker8k_Dataset/1355703632_5683a4b6fb.jpg\n",
            " create mode 100644 drive/MyDrive/P5_Image_Captioning/Flicker8k_Dataset/1355833561_9c43073eda.jpg\n",
            " create mode 100644 drive/MyDrive/P5_Image_Captioning/Flicker8k_Dataset/1355935187_2c99648138.jpg\n",
            " create mode 100644 drive/MyDrive/P5_Image_Captioning/Flicker8k_Dataset/1355945307_f9e01a9a05.jpg\n",
            " create mode 100644 drive/MyDrive/P5_Image_Captioning/Flicker8k_Dataset/1356543628_c13ebe38fb.jpg\n",
            " create mode 100644 drive/MyDrive/P5_Image_Captioning/Flicker8k_Dataset/1356796100_b265479721.jpg\n",
            " create mode 100644 drive/MyDrive/P5_Image_Captioning/Flicker8k_Dataset/1357689954_72588dfdc4.jpg\n",
            " create mode 100644 drive/MyDrive/P5_Image_Captioning/Flicker8k_Dataset/1357724865_4faf4e1418.jpg\n",
            " create mode 100644 drive/MyDrive/P5_Image_Captioning/Flicker8k_Dataset/1357753846_6185e26040.jpg\n",
            " create mode 100644 drive/MyDrive/P5_Image_Captioning/Flicker8k_Dataset/1358089136_976e3d2e30.jpg\n",
            " create mode 100644 drive/MyDrive/P5_Image_Captioning/Flicker8k_Dataset/1358892595_7a37c45788.jpg\n",
            " create mode 100644 drive/MyDrive/P5_Image_Captioning/Flicker8k_Dataset/1359101233_16c2c150e3.jpg\n",
            " create mode 100644 drive/MyDrive/P5_Image_Captioning/Flicker8k_Dataset/1361420539_e9599c60ae.jpg\n",
            " create mode 100644 drive/MyDrive/P5_Image_Captioning/Flicker8k_Dataset/1362128028_8422d53dc4.jpg\n",
            " create mode 100644 drive/MyDrive/P5_Image_Captioning/Flicker8k_Dataset/1363843090_9425d93064.jpg\n",
            " create mode 100644 drive/MyDrive/P5_Image_Captioning/Flicker8k_Dataset/1363924449_487f0733df.jpg\n",
            " create mode 100644 drive/MyDrive/P5_Image_Captioning/Flicker8k_Dataset/136552115_6dc3e7231c.jpg\n",
            " create mode 100644 drive/MyDrive/P5_Image_Captioning/Flicker8k_Dataset/136639119_6040b00946.jpg\n",
            " create mode 100644 drive/MyDrive/P5_Image_Captioning/Flicker8k_Dataset/136644343_0e2b423829.jpg\n",
            " create mode 100644 drive/MyDrive/P5_Image_Captioning/Flicker8k_Dataset/136644885_f7d2bbf546.jpg\n",
            " create mode 100644 drive/MyDrive/P5_Image_Captioning/Flicker8k_Dataset/1368338041_6b4077ca98.jpg\n",
            " create mode 100644 drive/MyDrive/P5_Image_Captioning/Flicker8k_Dataset/1368383637_614646cc4a.jpg\n",
            " create mode 100644 drive/MyDrive/P5_Image_Captioning/Flicker8k_Dataset/136886677_6026c622eb.jpg\n",
            " create mode 100644 drive/MyDrive/P5_Image_Captioning/Flicker8k_Dataset/1370615506_2b96105ca3.jpg\n",
            " create mode 100644 drive/MyDrive/P5_Image_Captioning/Flicker8k_Dataset/1370773415_967b1ffde1.jpg\n",
            " create mode 100644 drive/MyDrive/P5_Image_Captioning/Flicker8k_Dataset/1377668044_36398401dd.jpg\n",
            " create mode 100644 drive/MyDrive/P5_Image_Captioning/Flicker8k_Dataset/1378557186_4bd1da6834.jpg\n",
            " create mode 100644 drive/MyDrive/P5_Image_Captioning/Flicker8k_Dataset/1379026456_153fd8b51b.jpg\n",
            " create mode 100644 drive/MyDrive/P5_Image_Captioning/Flicker8k_Dataset/1383698008_8ac53ed7ec.jpg\n",
            " create mode 100644 drive/MyDrive/P5_Image_Captioning/Flicker8k_Dataset/1383840121_c092110917.jpg\n",
            " create mode 100644 drive/MyDrive/P5_Image_Captioning/Flicker8k_Dataset/1384292980_4022a7520c.jpg\n",
            " create mode 100644 drive/MyDrive/P5_Image_Captioning/Flicker8k_Dataset/1386251841_5f384a0fea.jpg\n",
            " create mode 100644 drive/MyDrive/P5_Image_Captioning/Flicker8k_Dataset/1386964743_9e80d96b05.jpg\n",
            " create mode 100644 drive/MyDrive/P5_Image_Captioning/Flicker8k_Dataset/138705546_be7a6845dd.jpg\n",
            " create mode 100644 drive/MyDrive/P5_Image_Captioning/Flicker8k_Dataset/138718600_f430ebca17.jpg\n",
            " create mode 100644 drive/MyDrive/P5_Image_Captioning/Flicker8k_Dataset/1387443857_602ab6f9bf.jpg\n",
            " create mode 100644 drive/MyDrive/P5_Image_Captioning/Flicker8k_Dataset/1387461595_2fe6925f73.jpg\n",
            " create mode 100644 drive/MyDrive/P5_Image_Captioning/Flicker8k_Dataset/1387785218_cee67735f5.jpg\n",
            " create mode 100644 drive/MyDrive/P5_Image_Captioning/Flicker8k_Dataset/1388346434_524d0b6dfa.jpg\n",
            " create mode 100644 drive/MyDrive/P5_Image_Captioning/Flicker8k_Dataset/1388373425_3c72b56639.jpg\n",
            " create mode 100644 drive/MyDrive/P5_Image_Captioning/Flicker8k_Dataset/1388970365_162edcceb4.jpg\n",
            " create mode 100644 drive/MyDrive/P5_Image_Captioning/Flicker8k_Dataset/1389264266_8170bc1c54.jpg\n",
            " create mode 100644 drive/MyDrive/P5_Image_Captioning/Flicker8k_Dataset/1389323170_d1c81d6b51.jpg\n",
            " create mode 100644 drive/MyDrive/P5_Image_Captioning/Flicker8k_Dataset/1389651420_8d95d8f6ed.jpg\n",
            " create mode 100644 drive/MyDrive/P5_Image_Captioning/Flicker8k_Dataset/1390268323_2c8204e91c.jpg\n",
            " create mode 100644 drive/MyDrive/P5_Image_Captioning/Flicker8k_Dataset/1392272228_cf104086e6.jpg\n",
            " create mode 100644 drive/MyDrive/P5_Image_Captioning/Flicker8k_Dataset/1394368714_3bc7c19969.jpg\n",
            " create mode 100644 drive/MyDrive/P5_Image_Captioning/Flicker8k_Dataset/1394396709_65040d97ab.jpg\n",
            " create mode 100644 drive/MyDrive/P5_Image_Captioning/Flicker8k_Dataset/1394599090_fe0ba238f0.jpg\n",
            " create mode 100644 drive/MyDrive/P5_Image_Captioning/Flicker8k_Dataset/1394620454_bf708cc501.jpg\n",
            " create mode 100644 drive/MyDrive/P5_Image_Captioning/Flicker8k_Dataset/1394927474_0afdd82fc4.jpg\n",
            " create mode 100644 drive/MyDrive/P5_Image_Captioning/Flicker8k_Dataset/1396064003_3fd949c9dd.jpg\n",
            " create mode 100644 drive/MyDrive/P5_Image_Captioning/Flicker8k_Dataset/1396703063_e8c3687afe.jpg\n",
            " create mode 100644 drive/MyDrive/P5_Image_Captioning/Flicker8k_Dataset/1397295388_8a5b6b525d.jpg\n",
            " create mode 100644 drive/MyDrive/P5_Image_Captioning/Flicker8k_Dataset/1397887419_e798697b93.jpg\n",
            " create mode 100644 drive/MyDrive/P5_Image_Captioning/Flicker8k_Dataset/1397923690_d3bf1f799e.jpg\n",
            " create mode 100644 drive/MyDrive/P5_Image_Captioning/Flicker8k_Dataset/1398606571_f543f7698a.jpg\n",
            " create mode 100644 drive/MyDrive/P5_Image_Captioning/Flicker8k_Dataset/1398613231_18de248606.jpg\n",
            " create mode 100644 drive/MyDrive/P5_Image_Captioning/Flicker8k_Dataset/1398873613_7e3174dd6c.jpg\n",
            " create mode 100644 drive/MyDrive/P5_Image_Captioning/Flicker8k_Dataset/1400424834_1c76e700c4.jpg\n",
            " create mode 100644 drive/MyDrive/P5_Image_Captioning/Flicker8k_Dataset/1401961581_76921a75c5.jpg\n",
            " create mode 100644 drive/MyDrive/P5_Image_Captioning/Flicker8k_Dataset/1402640441_81978e32a9.jpg\n",
            " create mode 100644 drive/MyDrive/P5_Image_Captioning/Flicker8k_Dataset/1402641725_5e027ecaa7.jpg\n",
            " create mode 100644 drive/MyDrive/P5_Image_Captioning/Flicker8k_Dataset/1402843760_d30f1dbf0f.jpg\n",
            " create mode 100644 drive/MyDrive/P5_Image_Captioning/Flicker8k_Dataset/1402859872_0fc8cf8108.jpg\n",
            " create mode 100644 drive/MyDrive/P5_Image_Captioning/Flicker8k_Dataset/1403414927_5f80281505.jpg\n",
            " create mode 100644 drive/MyDrive/P5_Image_Captioning/Flicker8k_Dataset/140377584_12bdbdf2f8.jpg\n",
            " create mode 100644 drive/MyDrive/P5_Image_Captioning/Flicker8k_Dataset/140430106_2978fda105.jpg\n",
            " create mode 100644 drive/MyDrive/P5_Image_Captioning/Flicker8k_Dataset/1404832008_68e432665b.jpg\n",
            " create mode 100644 drive/MyDrive/P5_Image_Captioning/Flicker8k_Dataset/1405221276_21634dcd58.jpg\n",
            " create mode 100644 drive/MyDrive/P5_Image_Captioning/Flicker8k_Dataset/140526326_da07305c1c.jpg\n",
            " create mode 100644 drive/MyDrive/P5_Image_Captioning/Flicker8k_Dataset/140526327_3cb984de09.jpg\n",
            " create mode 100644 drive/MyDrive/P5_Image_Captioning/Flicker8k_Dataset/1406010299_5755339f08.jpg\n",
            " create mode 100644 drive/MyDrive/P5_Image_Captioning/Flicker8k_Dataset/1408958345_68eea9a4e4.jpg\n",
            " create mode 100644 drive/MyDrive/P5_Image_Captioning/Flicker8k_Dataset/1410193619_13fff6c875.jpg\n",
            " create mode 100644 drive/MyDrive/P5_Image_Captioning/Flicker8k_Dataset/141139674_246c0f90a1.jpg\n",
            " create mode 100644 drive/MyDrive/P5_Image_Captioning/Flicker8k_Dataset/141140165_9002a04f19.jpg\n",
            " create mode 100644 drive/MyDrive/P5_Image_Captioning/Flicker8k_Dataset/1412832223_99e8b4701a.jpg\n",
            " create mode 100644 drive/MyDrive/P5_Image_Captioning/Flicker8k_Dataset/1413956047_c826f90c8b.jpg\n",
            " create mode 100644 drive/MyDrive/P5_Image_Captioning/Flicker8k_Dataset/1414779054_31946f9dfc.jpg\n",
            " create mode 100644 drive/MyDrive/P5_Image_Captioning/Flicker8k_Dataset/1414820925_3504c394e1.jpg\n",
            " create mode 100644 drive/MyDrive/P5_Image_Captioning/Flicker8k_Dataset/1415591512_a84644750c.jpg\n",
            " create mode 100644 drive/MyDrive/P5_Image_Captioning/Flicker8k_Dataset/1417031097_ab656bc4bd.jpg\n",
            " create mode 100644 drive/MyDrive/P5_Image_Captioning/Flicker8k_Dataset/1417295167_5299df6db8.jpg\n",
            " create mode 100644 drive/MyDrive/P5_Image_Captioning/Flicker8k_Dataset/141755290_4b954529f3.jpg\n",
            " create mode 100644 drive/MyDrive/P5_Image_Captioning/Flicker8k_Dataset/141755292_7a0b3364cf.jpg\n",
            " create mode 100644 drive/MyDrive/P5_Image_Captioning/Flicker8k_Dataset/1417637704_572b4d6557.jpg\n",
            " create mode 100644 drive/MyDrive/P5_Image_Captioning/Flicker8k_Dataset/1417882092_c94c251eb3.jpg\n",
            " create mode 100644 drive/MyDrive/P5_Image_Captioning/Flicker8k_Dataset/1417941060_2a0f7908bc.jpg\n",
            " create mode 100644 drive/MyDrive/P5_Image_Captioning/Flicker8k_Dataset/1418019748_51c7d59c11.jpg\n",
            " create mode 100644 drive/MyDrive/P5_Image_Captioning/Flicker8k_Dataset/1418266617_b32143275b.jpg\n",
            " create mode 100644 drive/MyDrive/P5_Image_Captioning/Flicker8k_Dataset/1418503947_953d373632.jpg\n",
            " create mode 100644 drive/MyDrive/P5_Image_Captioning/Flicker8k_Dataset/1419286010_b59af3962a.jpg\n",
            " create mode 100644 drive/MyDrive/P5_Image_Captioning/Flicker8k_Dataset/1419385780_1383ec7ba9.jpg\n",
            " create mode 100644 drive/MyDrive/P5_Image_Captioning/Flicker8k_Dataset/1420060020_7a6984e2ea.jpg\n",
            " create mode 100644 drive/MyDrive/P5_Image_Captioning/Flicker8k_Dataset/1420060118_aed262d606.jpg\n",
            " create mode 100644 drive/MyDrive/P5_Image_Captioning/Flicker8k_Dataset/1423126855_6cd2a3956c.jpg\n",
            " create mode 100644 drive/MyDrive/P5_Image_Captioning/Flicker8k_Dataset/1423997242_ea2189ec5e.jpg\n",
            " create mode 100644 drive/MyDrive/P5_Image_Captioning/Flicker8k_Dataset/1424237335_b3be9920ba.jpg\n",
            " create mode 100644 drive/MyDrive/P5_Image_Captioning/Flicker8k_Dataset/1424775129_ffea9c13ab.jpg\n",
            " create mode 100644 drive/MyDrive/P5_Image_Captioning/Flicker8k_Dataset/1425013325_bff69bc9da.jpg\n",
            " create mode 100644 drive/MyDrive/P5_Image_Captioning/Flicker8k_Dataset/1425069308_488e5fcf9d.jpg\n",
            " create mode 100644 drive/MyDrive/P5_Image_Captioning/Flicker8k_Dataset/1425069590_570cc7c2d8.jpg\n",
            " create mode 100644 drive/MyDrive/P5_Image_Captioning/Flicker8k_Dataset/1425485485_d7c97a5470.jpg\n",
            " create mode 100644 drive/MyDrive/P5_Image_Captioning/Flicker8k_Dataset/1425919702_ddb761aeec.jpg\n",
            " create mode 100644 drive/MyDrive/P5_Image_Captioning/Flicker8k_Dataset/1426014905_da60d72957.jpg\n",
            " create mode 100644 drive/MyDrive/P5_Image_Captioning/Flicker8k_Dataset/1427391496_ea512cbe7f.jpg\n",
            " create mode 100644 drive/MyDrive/P5_Image_Captioning/Flicker8k_Dataset/142802798_962a4ec5ce.jpg\n",
            " create mode 100644 drive/MyDrive/P5_Image_Captioning/Flicker8k_Dataset/1428578577_82864facae.jpg\n",
            " create mode 100644 drive/MyDrive/P5_Image_Captioning/Flicker8k_Dataset/1428641354_f7453afbea.jpg\n",
            " create mode 100644 drive/MyDrive/P5_Image_Captioning/Flicker8k_Dataset/1428681303_04213524e3.jpg\n",
            " create mode 100644 drive/MyDrive/P5_Image_Captioning/Flicker8k_Dataset/1429546659_44cb09cbe2.jpg\n",
            " create mode 100644 drive/MyDrive/P5_Image_Captioning/Flicker8k_Dataset/1429723917_6af585e4c0.jpg\n",
            " create mode 100644 drive/MyDrive/P5_Image_Captioning/Flicker8k_Dataset/1429814475_0b592b9995.jpg\n",
            " create mode 100644 drive/MyDrive/P5_Image_Captioning/Flicker8k_Dataset/1430154945_71bbaa094a.jpg\n",
            " create mode 100644 drive/MyDrive/P5_Image_Captioning/Flicker8k_Dataset/1432179046_8e3d75cf81.jpg\n",
            " create mode 100644 drive/MyDrive/P5_Image_Captioning/Flicker8k_Dataset/1432342377_3e41603f26.jpg\n",
            " create mode 100644 drive/MyDrive/P5_Image_Captioning/Flicker8k_Dataset/143237785_93f81b3201.jpg\n",
            " create mode 100644 drive/MyDrive/P5_Image_Captioning/Flicker8k_Dataset/1433088025_bce2cb69f8.jpg\n",
            " create mode 100644 drive/MyDrive/P5_Image_Captioning/Flicker8k_Dataset/1433142189_cda8652603.jpg\n",
            " create mode 100644 drive/MyDrive/P5_Image_Captioning/Flicker8k_Dataset/1433397131_8634fa6664.jpg\n",
            " create mode 100644 drive/MyDrive/P5_Image_Captioning/Flicker8k_Dataset/1433577867_39a1510c43.jpg\n",
            " create mode 100644 drive/MyDrive/P5_Image_Captioning/Flicker8k_Dataset/1434005938_ad75c8598c.jpg\n",
            " create mode 100644 drive/MyDrive/P5_Image_Captioning/Flicker8k_Dataset/1434607942_da5432c28c.jpg\n",
            " create mode 100644 drive/MyDrive/P5_Image_Captioning/Flicker8k_Dataset/143552697_af27e9acf5.jpg\n",
            " create mode 100644 drive/MyDrive/P5_Image_Captioning/Flicker8k_Dataset/143552829_72b6ba49d4.jpg\n",
            " create mode 100644 drive/MyDrive/P5_Image_Captioning/Flicker8k_Dataset/1436760519_8d6101a0ed.jpg\n",
            " create mode 100644 drive/MyDrive/P5_Image_Captioning/Flicker8k_Dataset/143680442_2f03f76944.jpg\n",
            " create mode 100644 drive/MyDrive/P5_Image_Captioning/Flicker8k_Dataset/143680966_0010ff8c60.jpg\n",
            " create mode 100644 drive/MyDrive/P5_Image_Captioning/Flicker8k_Dataset/143684568_3c59299bae.jpg\n",
            " create mode 100644 drive/MyDrive/P5_Image_Captioning/Flicker8k_Dataset/143688205_630813a466.jpg\n",
            " create mode 100644 drive/MyDrive/P5_Image_Captioning/Flicker8k_Dataset/143688283_a96ded20f1.jpg\n",
            " create mode 100644 drive/MyDrive/P5_Image_Captioning/Flicker8k_Dataset/143688895_e837c3bc76.jpg\n",
            " create mode 100644 drive/MyDrive/P5_Image_Captioning/Flicker8k_Dataset/1439046601_cf110a75a7.jpg\n",
            " create mode 100644 drive/MyDrive/P5_Image_Captioning/Flicker8k_Dataset/1439282131_3814d6ae04.jpg\n",
            " create mode 100644 drive/MyDrive/P5_Image_Captioning/Flicker8k_Dataset/1440024115_129212c988.jpg\n",
            " create mode 100644 drive/MyDrive/P5_Image_Captioning/Flicker8k_Dataset/1443807993_aebfb2784a.jpg\n",
            " create mode 100644 drive/MyDrive/P5_Image_Captioning/Flicker8k_Dataset/1445123245_c7b9db0e0c.jpg\n",
            " create mode 100644 drive/MyDrive/P5_Image_Captioning/Flicker8k_Dataset/1445754124_647168f211.jpg\n",
            " create mode 100644 drive/MyDrive/P5_Image_Captioning/Flicker8k_Dataset/1446053356_a924b4893f.jpg\n",
            " create mode 100644 drive/MyDrive/P5_Image_Captioning/Flicker8k_Dataset/1446933195_8fe9725d62.jpg\n",
            " create mode 100644 drive/MyDrive/P5_Image_Captioning/Flicker8k_Dataset/1448511770_1a4a9c453b.jpg\n",
            " create mode 100644 drive/MyDrive/P5_Image_Captioning/Flicker8k_Dataset/1449370354_380c4123c9.jpg\n",
            " create mode 100644 drive/MyDrive/P5_Image_Captioning/Flicker8k_Dataset/1449625950_fc9a8d02d9.jpg\n",
            " create mode 100644 drive/MyDrive/P5_Image_Captioning/Flicker8k_Dataset/1449692616_60507875fb.jpg\n",
            " create mode 100644 drive/MyDrive/P5_Image_Captioning/Flicker8k_Dataset/1452361926_6d8c535e32.jpg\n",
            " create mode 100644 drive/MyDrive/P5_Image_Captioning/Flicker8k_Dataset/1453366750_6e8cf601bf.jpg\n",
            " create mode 100644 drive/MyDrive/P5_Image_Captioning/Flicker8k_Dataset/1454678644_7e5a371301.jpg\n",
            " create mode 100644 drive/MyDrive/P5_Image_Captioning/Flicker8k_Dataset/1454841725_4b6e6199e2.jpg\n",
            " create mode 100644 drive/MyDrive/P5_Image_Captioning/Flicker8k_Dataset/1456393634_74022d9056.jpg\n",
            " create mode 100644 drive/MyDrive/P5_Image_Captioning/Flicker8k_Dataset/1456630952_dd4778a48f.jpg\n",
            " create mode 100644 drive/MyDrive/P5_Image_Captioning/Flicker8k_Dataset/145721496_687af9bb18.jpg\n",
            " create mode 100644 drive/MyDrive/P5_Image_Captioning/Flicker8k_Dataset/145721498_a27d2db576.jpg\n",
            " create mode 100644 drive/MyDrive/P5_Image_Captioning/Flicker8k_Dataset/1457762320_7fe121b285.jpg\n",
            " create mode 100644 drive/MyDrive/P5_Image_Captioning/Flicker8k_Dataset/1459032057_97e73ed6ab.jpg\n",
            " create mode 100644 drive/MyDrive/P5_Image_Captioning/Flicker8k_Dataset/1459250022_bf1eddad11.jpg\n",
            " create mode 100644 drive/MyDrive/P5_Image_Captioning/Flicker8k_Dataset/1460352062_d64fb633e0.jpg\n",
            " create mode 100644 drive/MyDrive/P5_Image_Captioning/Flicker8k_Dataset/1460500597_866fa0c6f3.jpg\n",
            " create mode 100644 drive/MyDrive/P5_Image_Captioning/Flicker8k_Dataset/146098876_0d99d7fb98.jpg\n",
            " create mode 100644 drive/MyDrive/P5_Image_Captioning/Flicker8k_Dataset/146100443_906d87faa2.jpg\n",
            " create mode 100644 drive/MyDrive/P5_Image_Captioning/Flicker8k_Dataset/1461329041_c623b06e5b.jpg\n",
            " create mode 100644 drive/MyDrive/P5_Image_Captioning/Flicker8k_Dataset/1461653394_8ab96aae63.jpg\n",
            " create mode 100644 drive/MyDrive/P5_Image_Captioning/Flicker8k_Dataset/1461667284_041c8a2475.jpg\n",
            " create mode 100644 drive/MyDrive/P5_Image_Captioning/Flicker8k_Dataset/1463638541_c02cfa04dc.jpg\n",
            " create mode 100644 drive/MyDrive/P5_Image_Captioning/Flicker8k_Dataset/1463732130_a754441289.jpg\n",
            " create mode 100644 drive/MyDrive/P5_Image_Captioning/Flicker8k_Dataset/1463732807_0cdf4f22c7.jpg\n",
            " create mode 100644 drive/MyDrive/P5_Image_Captioning/Flicker8k_Dataset/1464120327_d90279ca3a.jpg\n",
            " create mode 100644 drive/MyDrive/P5_Image_Captioning/Flicker8k_Dataset/1465666502_de289b3b9c.jpg\n",
            " create mode 100644 drive/MyDrive/P5_Image_Captioning/Flicker8k_Dataset/146577645_91b570c0d0.jpg\n",
            " create mode 100644 drive/MyDrive/P5_Image_Captioning/Flicker8k_Dataset/146577646_9e64b8c2dc.jpg\n",
            " create mode 100644 drive/MyDrive/P5_Image_Captioning/Flicker8k_Dataset/1466307485_5e6743332e.jpg\n",
            " create mode 100644 drive/MyDrive/P5_Image_Captioning/Flicker8k_Dataset/1466307489_cb8a74de09.jpg\n",
            " create mode 100644 drive/MyDrive/P5_Image_Captioning/Flicker8k_Dataset/1466479163_439db855af.jpg\n",
            " create mode 100644 drive/MyDrive/P5_Image_Captioning/Flicker8k_Dataset/1467533293_a2656cc000.jpg\n",
            " create mode 100644 drive/MyDrive/P5_Image_Captioning/Flicker8k_Dataset/1468103286_96a6e07029.jpg\n",
            " create mode 100644 drive/MyDrive/P5_Image_Captioning/Flicker8k_Dataset/1468389504_c724bdcad0.jpg\n",
            " create mode 100644 drive/MyDrive/P5_Image_Captioning/Flicker8k_Dataset/1468429623_f001988691.jpg\n",
            " create mode 100644 drive/MyDrive/P5_Image_Captioning/Flicker8k_Dataset/1468962616_5803b4397f.jpg\n",
            " create mode 100644 drive/MyDrive/P5_Image_Captioning/Flicker8k_Dataset/1469000260_5d473c8283.jpg\n",
            " create mode 100644 drive/MyDrive/P5_Image_Captioning/Flicker8k_Dataset/1469358746_2a879abaf3.jpg\n",
            " create mode 100644 drive/MyDrive/P5_Image_Captioning/Flicker8k_Dataset/1470061031_4cb59c12a8.jpg\n",
            " create mode 100644 drive/MyDrive/P5_Image_Captioning/Flicker8k_Dataset/1470132731_fa416b7504.jpg\n",
            " create mode 100644 drive/MyDrive/P5_Image_Captioning/Flicker8k_Dataset/1470536919_1f3fd6c65a.jpg\n",
            " create mode 100644 drive/MyDrive/P5_Image_Captioning/Flicker8k_Dataset/1472053993_bed67a3ba7.jpg\n",
            " create mode 100644 drive/MyDrive/P5_Image_Captioning/Flicker8k_Dataset/1472230829_803818a383.jpg\n",
            " create mode 100644 drive/MyDrive/P5_Image_Captioning/Flicker8k_Dataset/1472249944_d887c3aeda.jpg\n",
            " create mode 100644 drive/MyDrive/P5_Image_Captioning/Flicker8k_Dataset/1472653060_7427d2865a.jpg\n",
            " create mode 100644 drive/MyDrive/P5_Image_Captioning/Flicker8k_Dataset/1472882567_33dc14c8b6.jpg\n",
            " create mode 100644 drive/MyDrive/P5_Image_Captioning/Flicker8k_Dataset/1473080948_bae2925dc8.jpg\n",
            " create mode 100644 drive/MyDrive/P5_Image_Captioning/Flicker8k_Dataset/1473250020_dc829a090f.jpg\n",
            " create mode 100644 drive/MyDrive/P5_Image_Captioning/Flicker8k_Dataset/1473618073_7db56a5237.jpg\n",
            " create mode 100644 drive/MyDrive/P5_Image_Captioning/Flicker8k_Dataset/1474474514_b3eb492722.jpg\n",
            " create mode 100644 drive/MyDrive/P5_Image_Captioning/Flicker8k_Dataset/1475046848_831245fc64.jpg\n",
            " create mode 100644 drive/MyDrive/P5_Image_Captioning/Flicker8k_Dataset/1476002408_4256b7b2fa.jpg\n",
            " create mode 100644 drive/MyDrive/P5_Image_Captioning/Flicker8k_Dataset/1476241331_2f43b67aed.jpg\n",
            " create mode 100644 drive/MyDrive/P5_Image_Captioning/Flicker8k_Dataset/1478268555_7e301fc510.jpg\n",
            " create mode 100644 drive/MyDrive/P5_Image_Captioning/Flicker8k_Dataset/1478294229_7e1c822fea.jpg\n",
            " create mode 100644 drive/MyDrive/P5_Image_Captioning/Flicker8k_Dataset/1478606153_a7163bf899.jpg\n",
            " create mode 100644 drive/MyDrive/P5_Image_Captioning/Flicker8k_Dataset/1479028910_3dab3448c8.jpg\n",
            " create mode 100644 drive/MyDrive/P5_Image_Captioning/Flicker8k_Dataset/1479124077_17dcc0d5d7.jpg\n",
            " create mode 100644 drive/MyDrive/P5_Image_Captioning/Flicker8k_Dataset/1479513774_70c94cf9d3.jpg\n",
            " create mode 100644 drive/MyDrive/P5_Image_Captioning/Flicker8k_Dataset/1479679558_d0a01bc62b.jpg\n",
            " create mode 100644 drive/MyDrive/P5_Image_Captioning/Flicker8k_Dataset/1479857177_9d4a6f38fd.jpg\n",
            " create mode 100644 drive/MyDrive/P5_Image_Captioning/Flicker8k_Dataset/1480712062_32a61ad4b7.jpg\n",
            " create mode 100644 drive/MyDrive/P5_Image_Captioning/Flicker8k_Dataset/1481062342_d9e34366c4.jpg\n",
            " create mode 100644 drive/MyDrive/P5_Image_Captioning/Flicker8k_Dataset/1482960952_95f2d419cb.jpg\n",
            " create mode 100644 drive/MyDrive/P5_Image_Captioning/Flicker8k_Dataset/148512773_bae6901fd6.jpg\n",
            " create mode 100644 drive/MyDrive/P5_Image_Captioning/Flicker8k_Dataset/1488937076_5baa73fc2a.jpg\n",
            " create mode 100644 drive/MyDrive/P5_Image_Captioning/Flicker8k_Dataset/1489286545_8df476fa26.jpg\n",
            " create mode 100644 drive/MyDrive/P5_Image_Captioning/Flicker8k_Dataset/1490213660_9ea45550cf.jpg\n",
            " create mode 100644 drive/MyDrive/P5_Image_Captioning/Flicker8k_Dataset/1490670858_e122df2560.jpg\n",
            " create mode 100644 drive/MyDrive/P5_Image_Captioning/Flicker8k_Dataset/1491192153_7c395991e5.jpg\n",
            " create mode 100644 drive/MyDrive/P5_Image_Captioning/Flicker8k_Dataset/1499495021_d295ce577c.jpg\n",
            " create mode 100644 drive/MyDrive/P5_Image_Captioning/Flicker8k_Dataset/1499554025_a8ffe0e479.jpg\n",
            " create mode 100644 drive/MyDrive/P5_Image_Captioning/Flicker8k_Dataset/1499581619_a5f65a882c.jpg\n",
            " create mode 100644 drive/MyDrive/P5_Image_Captioning/Flicker8k_Dataset/1500853305_0150615ce9.jpg\n",
            " create mode 100644 drive/MyDrive/P5_Image_Captioning/Flicker8k_Dataset/1501297480_8db52c15b0.jpg\n",
            " create mode 100644 drive/MyDrive/P5_Image_Captioning/Flicker8k_Dataset/1501811302_5e723fc529.jpg\n",
            " create mode 100644 drive/MyDrive/P5_Image_Captioning/Flicker8k_Dataset/1501985304_8c50093004.jpg\n",
            " create mode 100644 drive/MyDrive/P5_Image_Captioning/Flicker8k_Dataset/150387174_24825cf871.jpg\n",
            " create mode 100644 drive/MyDrive/P5_Image_Captioning/Flicker8k_Dataset/1505686764_9e3bcd854a.jpg\n",
            " create mode 100644 drive/MyDrive/P5_Image_Captioning/Flicker8k_Dataset/150582765_bad8dec237.jpg\n",
            " create mode 100644 drive/MyDrive/P5_Image_Captioning/Flicker8k_Dataset/1507563902_6ec8d5d822.jpg\n",
            " create mode 100644 drive/MyDrive/P5_Image_Captioning/Flicker8k_Dataset/1508269285_6c5723f67d.jpg\n",
            " create mode 100644 drive/MyDrive/P5_Image_Captioning/Flicker8k_Dataset/1509786421_f03158adfc.jpg\n",
            " create mode 100644 drive/MyDrive/P5_Image_Captioning/Flicker8k_Dataset/1510078253_96e9ec50e7.jpg\n",
            " create mode 100644 drive/MyDrive/P5_Image_Captioning/Flicker8k_Dataset/1510669311_75330b4781.jpg\n",
            " create mode 100644 drive/MyDrive/P5_Image_Captioning/Flicker8k_Dataset/1511807116_41c3645e8c.jpg\n",
            " create mode 100644 drive/MyDrive/P5_Image_Captioning/Flicker8k_Dataset/1514957266_a19827c538.jpg\n",
            " create mode 100644 drive/MyDrive/P5_Image_Captioning/Flicker8k_Dataset/1515025681_999199cb79.jpg\n",
            " create mode 100644 drive/MyDrive/P5_Image_Captioning/Flicker8k_Dataset/1515883224_14e36a53c7.jpg\n",
            " create mode 100644 drive/MyDrive/P5_Image_Captioning/Flicker8k_Dataset/1516714577_7d1c35a8d8.jpg\n",
            " create mode 100644 drive/MyDrive/P5_Image_Captioning/Flicker8k_Dataset/1517340899_ee1c74a8f6.jpg\n",
            " create mode 100644 drive/MyDrive/P5_Image_Captioning/Flicker8k_Dataset/1517721825_10176d0683.jpg\n",
            " create mode 100644 drive/MyDrive/P5_Image_Captioning/Flicker8k_Dataset/1517807181_ca6588f2a0.jpg\n",
            " create mode 100644 drive/MyDrive/P5_Image_Captioning/Flicker8k_Dataset/152029243_b3582c36fa.jpg\n",
            " create mode 100644 drive/MyDrive/P5_Image_Captioning/Flicker8k_Dataset/1521623639_4bda3407cc.jpg\n",
            " create mode 100644 drive/MyDrive/P5_Image_Captioning/Flicker8k_Dataset/1522787272_5a31497ef2.jpg\n",
            " create mode 100644 drive/MyDrive/P5_Image_Captioning/Flicker8k_Dataset/1523800748_a59e980eee.jpg\n",
            " create mode 100644 drive/MyDrive/P5_Image_Captioning/Flicker8k_Dataset/1523984678_edd68464da.jpg\n",
            " create mode 100644 drive/MyDrive/P5_Image_Captioning/Flicker8k_Dataset/1525153022_06c48dbe52.jpg\n",
            " create mode 100644 drive/MyDrive/P5_Image_Captioning/Flicker8k_Dataset/1526181215_c1a94325ae.jpg\n",
            " create mode 100644 drive/MyDrive/P5_Image_Captioning/Flicker8k_Dataset/1526325728_74eb4153d8.jpg\n",
            " create mode 100644 drive/MyDrive/P5_Image_Captioning/Flicker8k_Dataset/1527297882_dededc7891.jpg\n",
            " create mode 100644 drive/MyDrive/P5_Image_Captioning/Flicker8k_Dataset/1527333441_af65636a74.jpg\n",
            " create mode 100644 drive/MyDrive/P5_Image_Captioning/Flicker8k_Dataset/1527513023_3d8152b379.jpg\n",
            " create mode 100644 drive/MyDrive/P5_Image_Captioning/Flicker8k_Dataset/1528205014_1323aa9dfd.jpg\n",
            " create mode 100644 drive/MyDrive/P5_Image_Captioning/Flicker8k_Dataset/1529044279_4922ead27c.jpg\n",
            " create mode 100644 drive/MyDrive/P5_Image_Captioning/Flicker8k_Dataset/1536597926_c2e1bc2379.jpg\n",
            " create mode 100644 drive/MyDrive/P5_Image_Captioning/Flicker8k_Dataset/1536774449_e16b1b6382.jpg\n",
            " create mode 100644 drive/MyDrive/P5_Image_Captioning/Flicker8k_Dataset/1539166395_0cdc0accee.jpg\n",
            " create mode 100644 drive/MyDrive/P5_Image_Captioning/Flicker8k_Dataset/1540631615_8b42c1b160.jpg\n",
            " create mode 100644 drive/MyDrive/P5_Image_Captioning/Flicker8k_Dataset/1541272333_1624b22546.jpg\n",
            " create mode 100644 drive/MyDrive/P5_Image_Captioning/Flicker8k_Dataset/1542033433_5453d4c466.jpg\n",
            " create mode 100644 drive/MyDrive/P5_Image_Captioning/Flicker8k_Dataset/1547883892_e29b3db42e.jpg\n",
            " create mode 100644 drive/MyDrive/P5_Image_Captioning/Flicker8k_Dataset/154871781_ae77696b77.jpg\n",
            " create mode 100644 drive/MyDrive/P5_Image_Captioning/Flicker8k_Dataset/1550772959_9ca9fa625f.jpg\n",
            " create mode 100644 drive/MyDrive/P5_Image_Captioning/Flicker8k_Dataset/1552065993_b4dcd2eadf.jpg\n",
            " create mode 100644 drive/MyDrive/P5_Image_Captioning/Flicker8k_Dataset/155221027_b23a4331b7.jpg\n",
            " create mode 100644 drive/MyDrive/P5_Image_Captioning/Flicker8k_Dataset/1554713437_61b64527dd.jpg\n",
            " create mode 100644 drive/MyDrive/P5_Image_Captioning/Flicker8k_Dataset/1557451043_f5c91ff6f4.jpg\n",
            " create mode 100644 drive/MyDrive/P5_Image_Captioning/Flicker8k_Dataset/1557838421_a33f2a4911.jpg\n",
            " create mode 100644 drive/MyDrive/P5_Image_Captioning/Flicker8k_Dataset/1561658940_a947f2446a.jpg\n",
            " create mode 100644 drive/MyDrive/P5_Image_Captioning/Flicker8k_Dataset/1562392511_522a26063b.jpg\n",
            " create mode 100644 drive/MyDrive/P5_Image_Captioning/Flicker8k_Dataset/1562478333_43d13e5427.jpg\n",
            " create mode 100644 drive/MyDrive/P5_Image_Captioning/Flicker8k_Dataset/1562478713_505ab6d924.jpg\n",
            " create mode 100644 drive/MyDrive/P5_Image_Captioning/Flicker8k_Dataset/1563731247_7f21d8bec0.jpg\n",
            " create mode 100644 drive/MyDrive/P5_Image_Captioning/Flicker8k_Dataset/1564614124_0ee6799935.jpg\n",
            " create mode 100644 drive/MyDrive/P5_Image_Captioning/Flicker8k_Dataset/1566117559_f5d98fbeb0.jpg\n",
            " create mode 100644 drive/MyDrive/P5_Image_Captioning/Flicker8k_Dataset/1569562856_eedb5a0a1f.jpg\n",
            " create mode 100644 drive/MyDrive/P5_Image_Captioning/Flicker8k_Dataset/156967462_72db9b722c.jpg\n",
            " create mode 100644 drive/MyDrive/P5_Image_Captioning/Flicker8k_Dataset/1569687608_0e3b3ad044.jpg\n",
            " create mode 100644 drive/MyDrive/P5_Image_Captioning/Flicker8k_Dataset/1570723692_3a2b064d43.jpg\n",
            " create mode 100644 drive/MyDrive/P5_Image_Captioning/Flicker8k_Dataset/157139628_5dc483e2e4.jpg\n",
            " create mode 100644 drive/MyDrive/P5_Image_Captioning/Flicker8k_Dataset/1572286502_64e5c4b920.jpg\n",
            " create mode 100644 drive/MyDrive/P5_Image_Captioning/Flicker8k_Dataset/1572532018_64c030c974.jpg\n",
            " create mode 100644 drive/MyDrive/P5_Image_Captioning/Flicker8k_Dataset/1573017288_4d481856e2.jpg\n",
            " create mode 100644 drive/MyDrive/P5_Image_Captioning/Flicker8k_Dataset/1574401950_6bedc0d29b.jpg\n",
            " create mode 100644 drive/MyDrive/P5_Image_Captioning/Flicker8k_Dataset/1576185717_f841ddc3da.jpg\n",
            " create mode 100644 drive/MyDrive/P5_Image_Captioning/Flicker8k_Dataset/1579198375_84b18e003a.jpg\n",
            " create mode 100644 drive/MyDrive/P5_Image_Captioning/Flicker8k_Dataset/1579206585_5ca6a24db0.jpg\n",
            " create mode 100644 drive/MyDrive/P5_Image_Captioning/Flicker8k_Dataset/1579287915_4257c54451.jpg\n",
            " create mode 100644 drive/MyDrive/P5_Image_Captioning/Flicker8k_Dataset/1579798212_d30844b4c5.jpg\n",
            " create mode 100644 drive/MyDrive/P5_Image_Captioning/Flicker8k_Dataset/1580172290_e19067e0dd.jpg\n",
            " create mode 100644 drive/MyDrive/P5_Image_Captioning/Flicker8k_Dataset/1580671272_3e99d94305.jpg\n",
            " create mode 100644 drive/MyDrive/P5_Image_Captioning/Flicker8k_Dataset/1581822598_0ae23074f1.jpg\n",
            " create mode 100644 drive/MyDrive/P5_Image_Captioning/Flicker8k_Dataset/1584315962_5b0b45d02d.jpg\n",
            " create mode 100644 drive/MyDrive/P5_Image_Captioning/Flicker8k_Dataset/1594038143_57f299aa8a.jpg\n",
            " create mode 100644 drive/MyDrive/P5_Image_Captioning/Flicker8k_Dataset/159712188_d530dd478c.jpg\n",
            " create mode 100644 drive/MyDrive/P5_Image_Captioning/Flicker8k_Dataset/1597319381_1e80d9e39c.jpg\n",
            " create mode 100644 drive/MyDrive/P5_Image_Captioning/Flicker8k_Dataset/1597557856_30640e0b43.jpg\n",
            " create mode 100644 drive/MyDrive/P5_Image_Captioning/Flicker8k_Dataset/1598085252_f3219b6140.jpg\n",
            " create mode 100644 drive/MyDrive/P5_Image_Captioning/Flicker8k_Dataset/1600208439_e94527b80f.jpg\n",
            " create mode 100644 drive/MyDrive/P5_Image_Captioning/Flicker8k_Dataset/160541986_d5be2ab4c1.jpg\n",
            " create mode 100644 drive/MyDrive/P5_Image_Captioning/Flicker8k_Dataset/160566014_59528ff897.jpg\n",
            " create mode 100644 drive/MyDrive/P5_Image_Captioning/Flicker8k_Dataset/160585932_fa6339f248.jpg\n",
            " create mode 100644 drive/MyDrive/P5_Image_Captioning/Flicker8k_Dataset/1606988704_fe330878a3.jpg\n",
            " create mode 100644 drive/MyDrive/P5_Image_Captioning/Flicker8k_Dataset/160792599_6a7ec52516.jpg\n",
            " create mode 100644 drive/MyDrive/P5_Image_Captioning/Flicker8k_Dataset/160805827_5e6646b753.jpg\n",
            " create mode 100644 drive/MyDrive/P5_Image_Captioning/Flicker8k_Dataset/1616016569_673de1d678.jpg\n",
            " create mode 100644 drive/MyDrive/P5_Image_Captioning/Flicker8k_Dataset/161669933_3e7d8c7e2c.jpg\n",
            " create mode 100644 drive/MyDrive/P5_Image_Captioning/Flicker8k_Dataset/161905204_247c6ca6de.jpg\n",
            " create mode 100644 drive/MyDrive/P5_Image_Captioning/Flicker8k_Dataset/1620397000_3883e3ecd3.jpg\n",
            " create mode 100644 drive/MyDrive/P5_Image_Captioning/Flicker8k_Dataset/162152393_52ecd33fc5.jpg\n",
            " create mode 100644 drive/MyDrive/P5_Image_Captioning/Flicker8k_Dataset/1622619190_d0b51aff28.jpg\n",
            " create mode 100644 drive/MyDrive/P5_Image_Captioning/Flicker8k_Dataset/1625306051_7099519baa.jpg\n",
            " create mode 100644 drive/MyDrive/P5_Image_Captioning/Flicker8k_Dataset/1626754053_81126b67b6.jpg\n",
            " create mode 100644 drive/MyDrive/P5_Image_Captioning/Flicker8k_Dataset/162743064_bb242faa31.jpg\n",
            " create mode 100644 drive/MyDrive/P5_Image_Captioning/Flicker8k_Dataset/1643915227_9f48068772.jpg\n",
            " create mode 100644 drive/MyDrive/P5_Image_Captioning/Flicker8k_Dataset/1650280501_29810b46e5.jpg\n",
            " create mode 100644 drive/MyDrive/P5_Image_Captioning/Flicker8k_Dataset/1655781989_b15ab4cbff.jpg\n",
            " create mode 100644 drive/MyDrive/P5_Image_Captioning/Flicker8k_Dataset/1659358133_95cd1027bd.jpg\n",
            " create mode 100644 drive/MyDrive/P5_Image_Captioning/Flicker8k_Dataset/1659358141_0433c9bf99.jpg\n",
            " create mode 100644 drive/MyDrive/P5_Image_Captioning/Flicker8k_Dataset/1659396176_ced00a549f.jpg\n",
            " create mode 100644 drive/MyDrive/P5_Image_Captioning/Flicker8k_Dataset/1662261486_db967930de.jpg\n",
            " create mode 100644 drive/MyDrive/P5_Image_Captioning/Flicker8k_Dataset/166321294_4a5e68535f.jpg\n",
            " create mode 100644 drive/MyDrive/P5_Image_Captioning/Flicker8k_Dataset/1663454406_5e2cf8c5bb.jpg\n",
            " create mode 100644 drive/MyDrive/P5_Image_Captioning/Flicker8k_Dataset/1663751778_90501966f0.jpg\n",
            " create mode 100644 drive/MyDrive/P5_Image_Captioning/Flicker8k_Dataset/166433861_70b66cd381.jpg\n",
            " create mode 100644 drive/MyDrive/P5_Image_Captioning/Flicker8k_Dataset/166507476_9be5b9852a.jpg\n",
            " create mode 100644 drive/MyDrive/P5_Image_Captioning/Flicker8k_Dataset/166654939_80ea4ddbcc.jpg\n",
            " create mode 100644 drive/MyDrive/P5_Image_Captioning/Flicker8k_Dataset/1670592963_39731a3dac.jpg\n",
            " create mode 100644 drive/MyDrive/P5_Image_Captioning/Flicker8k_Dataset/167295035_336f5f5f27.jpg\n",
            " create mode 100644 drive/MyDrive/P5_Image_Captioning/Flicker8k_Dataset/1674612291_7154c5ab61.jpg\n",
            " create mode 100644 drive/MyDrive/P5_Image_Captioning/Flicker8k_Dataset/1675679141_36c9bc2969.jpg\n",
            " create mode 100644 drive/MyDrive/P5_Image_Captioning/Flicker8k_Dataset/1676601498_7d59327523.jpg\n",
            " create mode 100644 drive/MyDrive/P5_Image_Captioning/Flicker8k_Dataset/1679557684_50a206e4a9.jpg\n",
            " create mode 100644 drive/MyDrive/P5_Image_Captioning/Flicker8k_Dataset/1679565118_d36f0d6d52.jpg\n",
            " create mode 100644 drive/MyDrive/P5_Image_Captioning/Flicker8k_Dataset/1679617928_a73c1769be.jpg\n",
            " create mode 100644 drive/MyDrive/P5_Image_Captioning/Flicker8k_Dataset/1680126311_b92a2e8e72.jpg\n",
            " create mode 100644 drive/MyDrive/P5_Image_Captioning/Flicker8k_Dataset/1682079482_9a72fa57fa.jpg\n",
            " create mode 100644 drive/MyDrive/P5_Image_Captioning/Flicker8k_Dataset/1683444418_815f660379.jpg\n",
            " create mode 100644 drive/MyDrive/P5_Image_Captioning/Flicker8k_Dataset/1685463722_55843b6d3c.jpg\n",
            " create mode 100644 drive/MyDrive/P5_Image_Captioning/Flicker8k_Dataset/1685990174_09c4fb7df8.jpg\n",
            " create mode 100644 drive/MyDrive/P5_Image_Captioning/Flicker8k_Dataset/1688699579_2f72328c7e.jpg\n",
            " create mode 100644 drive/MyDrive/P5_Image_Captioning/Flicker8k_Dataset/1689658980_0074d81d28.jpg\n",
            " create mode 100644 drive/MyDrive/P5_Image_Captioning/Flicker8k_Dataset/1691573772_1adef8e40e.jpg\n",
            " create mode 100644 drive/MyDrive/P5_Image_Captioning/Flicker8k_Dataset/169490297_b6ff13632a.jpg\n",
            " create mode 100644 drive/MyDrive/P5_Image_Captioning/Flicker8k_Dataset/170100272_d820db2199.jpg\n",
            " create mode 100644 drive/MyDrive/P5_Image_Captioning/Flicker8k_Dataset/1713248047_d03721456d.jpg\n",
            " create mode 100644 drive/MyDrive/P5_Image_Captioning/Flicker8k_Dataset/1713248099_d860df4e10.jpg\n",
            " create mode 100644 drive/MyDrive/P5_Image_Captioning/Flicker8k_Dataset/1714316707_8bbaa2a2ba.jpg\n",
            " create mode 100644 drive/MyDrive/P5_Image_Captioning/Flicker8k_Dataset/171488318_fb26af58e2.jpg\n",
            " create mode 100644 drive/MyDrive/P5_Image_Captioning/Flicker8k_Dataset/1716445442_9cf3528342.jpg\n",
            " create mode 100644 drive/MyDrive/P5_Image_Captioning/Flicker8k_Dataset/1718184338_5968d88edb.jpg\n",
            " create mode 100644 drive/MyDrive/P5_Image_Captioning/Flicker8k_Dataset/172092461_a9a9762e13.jpg\n",
            " create mode 100644 drive/MyDrive/P5_Image_Captioning/Flicker8k_Dataset/172092464_d9eb4f4f2f.jpg\n",
            " create mode 100644 drive/MyDrive/P5_Image_Captioning/Flicker8k_Dataset/172097782_f0844ec317.jpg\n",
            " create mode 100644 drive/MyDrive/P5_Image_Captioning/Flicker8k_Dataset/172097783_292c5413d8.jpg\n",
            " create mode 100644 drive/MyDrive/P5_Image_Captioning/Flicker8k_Dataset/1721637099_93e9ec2a2f.jpg\n",
            " create mode 100644 drive/MyDrive/P5_Image_Captioning/Flicker8k_Dataset/17273391_55cfc7d3d4.jpg\n",
            " create mode 100644 drive/MyDrive/P5_Image_Captioning/Flicker8k_Dataset/173020287_230bfc4ffc.jpg\n",
            " create mode 100644 drive/MyDrive/P5_Image_Captioning/Flicker8k_Dataset/1731546544_9fbf14617b.jpg\n",
            " create mode 100644 drive/MyDrive/P5_Image_Captioning/Flicker8k_Dataset/1732217138_aa0199ef87.jpg\n",
            " create mode 100644 drive/MyDrive/P5_Image_Captioning/Flicker8k_Dataset/1732436777_950bcdc9b8.jpg\n",
            " create mode 100644 drive/MyDrive/P5_Image_Captioning/Flicker8k_Dataset/174466741_329a52b2fe.jpg\n",
            " create mode 100644 drive/MyDrive/P5_Image_Captioning/Flicker8k_Dataset/1745110280_0cbff5e273.jpg\n",
            " create mode 100644 drive/MyDrive/P5_Image_Captioning/Flicker8k_Dataset/1752454466_723790dbd6.jpg\n",
            " create mode 100644 drive/MyDrive/P5_Image_Captioning/Flicker8k_Dataset/1763020597_d4cc8f0f8a.jpg\n",
            " create mode 100644 drive/MyDrive/P5_Image_Captioning/Flicker8k_Dataset/1764955991_5e53a28c87.jpg\n",
            " create mode 100644 drive/MyDrive/P5_Image_Captioning/Flicker8k_Dataset/1765164972_92dac06fa9.jpg\n",
            " create mode 100644 drive/MyDrive/P5_Image_Captioning/Flicker8k_Dataset/1770036088_08abe4f6e9.jpg\n",
            " create mode 100644 drive/MyDrive/P5_Image_Captioning/Flicker8k_Dataset/1771490732_0ab5f029ac.jpg\n",
            " create mode 100644 drive/MyDrive/P5_Image_Captioning/Flicker8k_Dataset/1772859261_236c09b861.jpg\n",
            " create mode 100644 drive/MyDrive/P5_Image_Captioning/Flicker8k_Dataset/177302997_5b2d770a0a.jpg\n",
            " create mode 100644 drive/MyDrive/P5_Image_Captioning/Flicker8k_Dataset/1773928579_5664a810dc.jpg\n",
            " create mode 100644 drive/MyDrive/P5_Image_Captioning/Flicker8k_Dataset/1775029934_e1e96038a8.jpg\n",
            " create mode 100644 drive/MyDrive/P5_Image_Captioning/Flicker8k_Dataset/1776981714_5b224d0f7a.jpg\n",
            " create mode 100644 drive/MyDrive/P5_Image_Captioning/Flicker8k_Dataset/1777816180_08d7e8063b.jpg\n",
            " create mode 100644 drive/MyDrive/P5_Image_Captioning/Flicker8k_Dataset/1778020185_1d44c04dae.jpg\n",
            " create mode 100644 drive/MyDrive/P5_Image_Captioning/Flicker8k_Dataset/1781227288_6811e734be.jpg\n",
            " create mode 100644 drive/MyDrive/P5_Image_Captioning/Flicker8k_Dataset/1784309115_0ad6791146.jpg\n",
            " create mode 100644 drive/MyDrive/P5_Image_Captioning/Flicker8k_Dataset/1785138090_76a56aaabc.jpg\n",
            " create mode 100644 drive/MyDrive/P5_Image_Captioning/Flicker8k_Dataset/1786425974_c7c5ad6aa1.jpg\n",
            " create mode 100644 drive/MyDrive/P5_Image_Captioning/Flicker8k_Dataset/1787222774_d5c68cce53.jpg\n",
            " create mode 100644 drive/MyDrive/P5_Image_Captioning/Flicker8k_Dataset/179009558_69be522c63.jpg\n",
            " create mode 100644 drive/MyDrive/P5_Image_Captioning/Flicker8k_Dataset/1794818900_e0ffdd268e.jpg\n",
            " create mode 100644 drive/MyDrive/P5_Image_Captioning/Flicker8k_Dataset/1795151944_d69b82f942.jpg\n",
            " create mode 100644 drive/MyDrive/P5_Image_Captioning/Flicker8k_Dataset/1797507760_384744fb34.jpg\n",
            " create mode 100644 drive/MyDrive/P5_Image_Captioning/Flicker8k_Dataset/1797554350_20998753c0.jpg\n",
            " create mode 100644 drive/MyDrive/P5_Image_Captioning/Flicker8k_Dataset/1798209205_77dbf525b0.jpg\n",
            " create mode 100644 drive/MyDrive/P5_Image_Captioning/Flicker8k_Dataset/1798215547_ef7ad95be8.jpg\n",
            " create mode 100644 drive/MyDrive/P5_Image_Captioning/Flicker8k_Dataset/179829865_095b040377.jpg\n",
            " create mode 100644 drive/MyDrive/P5_Image_Captioning/Flicker8k_Dataset/1799188614_b5189728ba.jpg\n",
            " create mode 100644 drive/MyDrive/P5_Image_Captioning/Flicker8k_Dataset/1799271536_6e69c8f1dc.jpg\n",
            " create mode 100644 drive/MyDrive/P5_Image_Captioning/Flicker8k_Dataset/1800601130_1c0f248d12.jpg\n",
            " create mode 100644 drive/MyDrive/P5_Image_Captioning/Flicker8k_Dataset/180094434_b0f244832d.jpg\n",
            " create mode 100644 drive/MyDrive/P5_Image_Captioning/Flicker8k_Dataset/1801063894_60bce29e19.jpg\n",
            " create mode 100644 drive/MyDrive/P5_Image_Captioning/Flicker8k_Dataset/1801188148_a176954965.jpg\n",
            " create mode 100644 drive/MyDrive/P5_Image_Captioning/Flicker8k_Dataset/1801663973_5ad393caeb.jpg\n",
            " create mode 100644 drive/MyDrive/P5_Image_Captioning/Flicker8k_Dataset/1801874841_4c12055e2f.jpg\n",
            " create mode 100644 drive/MyDrive/P5_Image_Captioning/Flicker8k_Dataset/1802092493_7b44fdb6b9.jpg\n",
            " create mode 100644 drive/MyDrive/P5_Image_Captioning/Flicker8k_Dataset/1803631090_05e07cc159.jpg\n",
            " create mode 100644 drive/MyDrive/P5_Image_Captioning/Flicker8k_Dataset/180506881_de0f59770f.jpg\n",
            " create mode 100644 drive/MyDrive/P5_Image_Captioning/Flicker8k_Dataset/1805990081_da9cefe3a5.jpg\n",
            " create mode 100644 drive/MyDrive/P5_Image_Captioning/Flicker8k_Dataset/1806580620_a8fe0fb9f8.jpg\n",
            " create mode 100644 drive/MyDrive/P5_Image_Captioning/Flicker8k_Dataset/1807169176_7f5226bf5a.jpg\n",
            " create mode 100644 drive/MyDrive/P5_Image_Captioning/Flicker8k_Dataset/1808007704_ee8a93abb4.jpg\n",
            " create mode 100644 drive/MyDrive/P5_Image_Captioning/Flicker8k_Dataset/1808370027_2088394eb4.jpg\n",
            " create mode 100644 drive/MyDrive/P5_Image_Captioning/Flicker8k_Dataset/1808504612_3508f3c9bb.jpg\n",
            " create mode 100644 drive/MyDrive/P5_Image_Captioning/Flicker8k_Dataset/1809758121_96026913bb.jpg\n",
            " create mode 100644 drive/MyDrive/P5_Image_Captioning/Flicker8k_Dataset/1809796012_a2dac6c26b.jpg\n",
            " create mode 100644 drive/MyDrive/P5_Image_Captioning/Flicker8k_Dataset/1810651611_35aae644fb.jpg\n",
            " create mode 100644 drive/MyDrive/P5_Image_Captioning/Flicker8k_Dataset/181103691_fb2f956abd.jpg\n",
            " create mode 100644 drive/MyDrive/P5_Image_Captioning/Flicker8k_Dataset/181157221_e12410ef0b.jpg\n",
            " create mode 100644 drive/MyDrive/P5_Image_Captioning/Flicker8k_Dataset/1812525037_528465037c.jpg\n",
            " create mode 100644 drive/MyDrive/P5_Image_Captioning/Flicker8k_Dataset/1813266419_08bf66fe98.jpg\n",
            " create mode 100644 drive/MyDrive/P5_Image_Captioning/Flicker8k_Dataset/1813597483_3f09d2a020.jpg\n",
            " create mode 100644 drive/MyDrive/P5_Image_Captioning/Flicker8k_Dataset/1813777902_07d1d4b00c.jpg\n",
            " create mode 100644 drive/MyDrive/P5_Image_Captioning/Flicker8k_Dataset/1814086703_33390d5fc7.jpg\n",
            " create mode 100644 drive/MyDrive/P5_Image_Captioning/Flicker8k_Dataset/181415975_2627aa6668.jpg\n",
            " create mode 100644 drive/MyDrive/P5_Image_Captioning/Flicker8k_Dataset/1814391289_83a1eb71d3.jpg\n",
            " create mode 100644 drive/MyDrive/P5_Image_Captioning/Flicker8k_Dataset/181777261_84c48b31cb.jpg\n",
            " create mode 100644 drive/MyDrive/P5_Image_Captioning/Flicker8k_Dataset/1818403842_553a2a392c.jpg\n",
            " create mode 100644 drive/MyDrive/P5_Image_Captioning/Flicker8k_Dataset/1819261140_6c022f4b1d.jpg\n",
            " create mode 100644 drive/MyDrive/P5_Image_Captioning/Flicker8k_Dataset/1821238649_2fda79d6d7.jpg\n",
            " create mode 100644 drive/MyDrive/P5_Image_Captioning/Flicker8k_Dataset/182493240_40410254b0.jpg\n",
            " create mode 100644 drive/MyDrive/P5_Image_Captioning/Flicker8k_Dataset/1827560917_c8d3c5627f.jpg\n",
            " create mode 100644 drive/MyDrive/P5_Image_Captioning/Flicker8k_Dataset/1835511273_790eaae6e6.jpg\n",
            " create mode 100644 drive/MyDrive/P5_Image_Captioning/Flicker8k_Dataset/1836335410_de8313a64e.jpg\n",
            " create mode 100644 drive/MyDrive/P5_Image_Captioning/Flicker8k_Dataset/1837976956_3c45d0f9b8.jpg\n",
            " create mode 100644 drive/MyDrive/P5_Image_Captioning/Flicker8k_Dataset/185057637_e8ada37343.jpg\n",
            " create mode 100644 drive/MyDrive/P5_Image_Captioning/Flicker8k_Dataset/1858963639_4588cd4be9.jpg\n",
            " create mode 100644 drive/MyDrive/P5_Image_Captioning/Flicker8k_Dataset/185972340_781d60ccfd.jpg\n",
            " create mode 100644 drive/MyDrive/P5_Image_Captioning/Flicker8k_Dataset/1859726819_9a793b3b44.jpg\n",
            " create mode 100644 drive/MyDrive/P5_Image_Captioning/Flicker8k_Dataset/1859941832_7faf6e5fa9.jpg\n",
            " create mode 100644 drive/MyDrive/P5_Image_Captioning/Flicker8k_Dataset/1860543210_47e94cf652.jpg\n",
            " create mode 100644 drive/MyDrive/P5_Image_Captioning/Flicker8k_Dataset/186346360_541047336f.jpg\n",
            " create mode 100644 drive/MyDrive/P5_Image_Captioning/Flicker8k_Dataset/186348874_75b2cf1ec5.jpg\n",
            " create mode 100644 drive/MyDrive/P5_Image_Captioning/Flicker8k_Dataset/1865794069_6e3a1e57bb.jpg\n",
            " create mode 100644 drive/MyDrive/P5_Image_Captioning/Flicker8k_Dataset/186890601_8a6b0f1769.jpg\n",
            " create mode 100644 drive/MyDrive/P5_Image_Captioning/Flicker8k_Dataset/186890605_ddff5b694e.jpg\n",
            " create mode 100644 drive/MyDrive/P5_Image_Captioning/Flicker8k_Dataset/1874617189_e85d3f4326.jpg\n",
            " create mode 100644 drive/MyDrive/P5_Image_Captioning/Flicker8k_Dataset/1876536922_8fdf8d7028.jpg\n",
            " create mode 100644 drive/MyDrive/P5_Image_Captioning/Flicker8k_Dataset/1881494074_1bebd93089.jpg\n",
            " create mode 100644 drive/MyDrive/P5_Image_Captioning/Flicker8k_Dataset/1884065356_c6c34b4568.jpg\n",
            " create mode 100644 drive/MyDrive/P5_Image_Captioning/Flicker8k_Dataset/1884727806_d84f209868.jpg\n",
            " create mode 100644 drive/MyDrive/P5_Image_Captioning/Flicker8k_Dataset/1895768965_43cd9d164f.jpg\n",
            " create mode 100644 drive/MyDrive/P5_Image_Captioning/Flicker8k_Dataset/1897025969_0c41688fa6.jpg\n",
            " create mode 100644 drive/MyDrive/P5_Image_Captioning/Flicker8k_Dataset/189721896_1ffe76d89e.jpg\n",
            " create mode 100644 drive/MyDrive/P5_Image_Captioning/Flicker8k_Dataset/189740668_0b045f1ff2.jpg\n",
            " create mode 100644 drive/MyDrive/P5_Image_Captioning/Flicker8k_Dataset/1904112245_549e47c8aa.jpg\n",
            " create mode 100644 drive/MyDrive/P5_Image_Captioning/Flicker8k_Dataset/190638179_be9da86589.jpg\n",
            " create mode 100644 drive/MyDrive/P5_Image_Captioning/Flicker8k_Dataset/190965502_0b9ed331d9.jpg\n",
            " create mode 100644 drive/MyDrive/P5_Image_Captioning/Flicker8k_Dataset/191003283_992257f835.jpg\n",
            " create mode 100644 drive/MyDrive/P5_Image_Captioning/Flicker8k_Dataset/191003284_1025b0fb7d.jpg\n",
            " create mode 100644 drive/MyDrive/P5_Image_Captioning/Flicker8k_Dataset/191003285_edd8d0cf58.jpg\n",
            " create mode 100644 drive/MyDrive/P5_Image_Captioning/Flicker8k_Dataset/191003287_2915c11d8e.jpg\n",
            " create mode 100644 drive/MyDrive/P5_Image_Captioning/Flicker8k_Dataset/191592626_477ef5e026.jpg\n",
            " create mode 100644 drive/MyDrive/P5_Image_Captioning/Flicker8k_Dataset/1917203130_fcaff8b10e.jpg\n",
            " create mode 100644 drive/MyDrive/P5_Image_Captioning/Flicker8k_Dataset/1917265421_aeccf1ca38.jpg\n",
            " create mode 100644 drive/MyDrive/P5_Image_Captioning/Flicker8k_Dataset/1918573100_d31cbb6b77.jpg\n",
            " create mode 100644 drive/MyDrive/P5_Image_Captioning/Flicker8k_Dataset/19212715_20476497a3.jpg\n",
            " create mode 100644 drive/MyDrive/P5_Image_Captioning/Flicker8k_Dataset/1921398767_771743bf4e.jpg\n",
            " create mode 100644 drive/MyDrive/P5_Image_Captioning/Flicker8k_Dataset/1923476156_e20976b32d.jpg\n",
            " create mode 100644 drive/MyDrive/P5_Image_Captioning/Flicker8k_Dataset/1924234308_c9ddcf206d.jpg\n",
            " create mode 100644 drive/MyDrive/P5_Image_Captioning/Flicker8k_Dataset/1925434818_2949a8f6d8.jpg\n",
            " create mode 100644 drive/MyDrive/P5_Image_Captioning/Flicker8k_Dataset/1926129518_4350f4f552.jpg\n",
            " create mode 100644 drive/MyDrive/P5_Image_Captioning/Flicker8k_Dataset/1928319708_ccf1f4ee72.jpg\n",
            " create mode 100644 drive/MyDrive/P5_Image_Captioning/Flicker8k_Dataset/1931690777_897a7d8ab6.jpg\n",
            " create mode 100644 drive/MyDrive/P5_Image_Captioning/Flicker8k_Dataset/1932161768_996eadac87.jpg\n",
            " create mode 100644 drive/MyDrive/P5_Image_Captioning/Flicker8k_Dataset/1932314876_9cc46fd054.jpg\n",
            " create mode 100644 drive/MyDrive/P5_Image_Captioning/Flicker8k_Dataset/1936215201_d03a75cbba.jpg\n",
            " create mode 100644 drive/MyDrive/P5_Image_Captioning/Flicker8k_Dataset/1937104503_313d22a2d0.jpg\n",
            " create mode 100644 drive/MyDrive/P5_Image_Captioning/Flicker8k_Dataset/1937262236_cbf5bfa101.jpg\n",
            " create mode 100644 drive/MyDrive/P5_Image_Captioning/Flicker8k_Dataset/1947351225_288d788983.jpg\n",
            " create mode 100644 drive/MyDrive/P5_Image_Captioning/Flicker8k_Dataset/195084264_72fb347b0f.jpg\n",
            " create mode 100644 drive/MyDrive/P5_Image_Captioning/Flicker8k_Dataset/1952896009_cee8147c90.jpg\n",
            " create mode 100644 drive/MyDrive/P5_Image_Captioning/Flicker8k_Dataset/1956678973_223cb1b847.jpg\n",
            " create mode 100644 drive/MyDrive/P5_Image_Captioning/Flicker8k_Dataset/1956944011_c5661d3f22.jpg\n",
            " create mode 100644 drive/MyDrive/P5_Image_Captioning/Flicker8k_Dataset/1957371533_62bc720bac.jpg\n",
            " create mode 100644 drive/MyDrive/P5_Image_Captioning/Flicker8k_Dataset/195962284_e57178054a.jpg\n",
            " create mode 100644 drive/MyDrive/P5_Image_Captioning/Flicker8k_Dataset/195962790_3380aea352.jpg\n",
            " create mode 100644 drive/MyDrive/P5_Image_Captioning/Flicker8k_Dataset/1962729184_6996e128e7.jpg\n",
            " create mode 100644 drive/MyDrive/P5_Image_Captioning/Flicker8k_Dataset/1965278563_8279e408de.jpg\n",
            " create mode 100644 drive/MyDrive/P5_Image_Captioning/Flicker8k_Dataset/1969573381_5ecfae4c80.jpg\n",
            " create mode 100644 drive/MyDrive/P5_Image_Captioning/Flicker8k_Dataset/197107117_4b438b1872.jpg\n",
            " create mode 100644 drive/MyDrive/P5_Image_Captioning/Flicker8k_Dataset/197142902_f05ff198c2.jpg\n",
            " create mode 100644 drive/MyDrive/P5_Image_Captioning/Flicker8k_Dataset/197504190_fd1fc3d4b7.jpg\n",
            " create mode 100644 drive/MyDrive/P5_Image_Captioning/Flicker8k_Dataset/1975171469_84e425f61b.jpg\n",
            " create mode 100644 drive/MyDrive/P5_Image_Captioning/Flicker8k_Dataset/1975531316_8b00eeaaf7.jpg\n",
            " create mode 100644 drive/MyDrive/P5_Image_Captioning/Flicker8k_Dataset/1977827746_4e13d7e19f.jpg\n",
            " create mode 100644 drive/MyDrive/P5_Image_Captioning/Flicker8k_Dataset/197924859_f6e39a7dfa.jpg\n",
            " create mode 100644 drive/MyDrive/P5_Image_Captioning/Flicker8k_Dataset/1980315248_82dbc34676.jpg\n",
            " create mode 100644 drive/MyDrive/P5_Image_Captioning/Flicker8k_Dataset/1980882959_9a161f3469.jpg\n",
            " create mode 100644 drive/MyDrive/P5_Image_Captioning/Flicker8k_Dataset/1982852140_56425fa7a2.jpg\n",
            " create mode 100644 drive/MyDrive/P5_Image_Captioning/Flicker8k_Dataset/1984936420_3f3102132b.jpg\n",
            " create mode 100644 drive/MyDrive/P5_Image_Captioning/Flicker8k_Dataset/1989145280_3b54452188.jpg\n",
            " create mode 100644 drive/MyDrive/P5_Image_Captioning/Flicker8k_Dataset/1991806812_065f747689.jpg\n",
            " create mode 100644 drive/MyDrive/P5_Image_Captioning/Flicker8k_Dataset/1994416869_4dd769a806.jpg\n",
            " create mode 100644 drive/MyDrive/P5_Image_Captioning/Flicker8k_Dataset/199463720_329a802206.jpg\n",
            " create mode 100644 drive/MyDrive/P5_Image_Captioning/Flicker8k_Dataset/199809190_e3f6bbe2bc.jpg\n",
            " create mode 100644 drive/MyDrive/P5_Image_Captioning/Flicker8k_Dataset/1998255400_0cd086908f.jpg\n",
            " create mode 100644 drive/MyDrive/P5_Image_Captioning/Flicker8k_Dataset/1998457059_c9ac9a1e1a.jpg\n",
            " create mode 100644 drive/MyDrive/P5_Image_Captioning/Flicker8k_Dataset/1999444757_1b92efb590.jpg\n",
            " create mode 100644 drive/MyDrive/P5_Image_Captioning/Flicker8k_Dataset/2000459828_3c9e109106.jpg\n",
            " create mode 100644 drive/MyDrive/P5_Image_Captioning/Flicker8k_Dataset/2003663004_5b70920a98.jpg\n",
            " create mode 100644 drive/MyDrive/P5_Image_Captioning/Flicker8k_Dataset/2004674713_2883e63c67.jpg\n",
            " create mode 100644 drive/MyDrive/P5_Image_Captioning/Flicker8k_Dataset/200771289_31902164a7.jpg\n",
            " create mode 100644 drive/MyDrive/P5_Image_Captioning/Flicker8k_Dataset/2009636597_e3f4fe19fb.jpg\n",
            " create mode 100644 drive/MyDrive/P5_Image_Captioning/Flicker8k_Dataset/201682811_105241dee3.jpg\n",
            " create mode 100644 drive/MyDrive/P5_Image_Captioning/Flicker8k_Dataset/2017276266_566656c59d.jpg\n",
            " create mode 100644 drive/MyDrive/P5_Image_Captioning/Flicker8k_Dataset/2021602343_03023e1fd1.jpg\n",
            " create mode 100644 drive/MyDrive/P5_Image_Captioning/Flicker8k_Dataset/2021613437_d99731f986.jpg\n",
            " create mode 100644 drive/MyDrive/P5_Image_Captioning/Flicker8k_Dataset/2021671653_567395c7cf.jpg\n",
            " create mode 100644 drive/MyDrive/P5_Image_Captioning/Flicker8k_Dataset/2029280005_a19609c81a.jpg\n",
            " create mode 100644 drive/MyDrive/P5_Image_Captioning/Flicker8k_Dataset/2030781555_b7ff7be28f.jpg\n",
            " create mode 100644 drive/MyDrive/P5_Image_Captioning/Flicker8k_Dataset/203114209_e4cd71a6b7.jpg\n",
            " create mode 100644 drive/MyDrive/P5_Image_Captioning/Flicker8k_Dataset/2034553054_b00c166895.jpg\n",
            " create mode 100644 drive/MyDrive/P5_Image_Captioning/Flicker8k_Dataset/2036407732_d5a0389bba.jpg\n",
            " create mode 100644 drive/MyDrive/P5_Image_Captioning/Flicker8k_Dataset/2038662925_f4fa8c2534.jpg\n",
            " create mode 100644 drive/MyDrive/P5_Image_Captioning/Flickr8k_text/CrowdFlowerAnnotations.txt\n",
            " create mode 100644 drive/MyDrive/P5_Image_Captioning/Flickr8k_text/ExpertAnnotations.txt\n",
            " create mode 100644 drive/MyDrive/P5_Image_Captioning/Flickr8k_text/Flickr8k.lemma.token.txt\n",
            " create mode 100644 drive/MyDrive/P5_Image_Captioning/Flickr8k_text/Flickr8k.token.txt\n",
            " create mode 100644 drive/MyDrive/P5_Image_Captioning/Flickr8k_text/Flickr_8k.devImages.txt\n",
            " create mode 100644 drive/MyDrive/P5_Image_Captioning/Flickr8k_text/Flickr_8k.testImages.txt\n",
            " create mode 100644 drive/MyDrive/P5_Image_Captioning/Flickr8k_text/Flickr_8k.trainImages.txt\n",
            " create mode 100644 drive/MyDrive/P5_Image_Captioning/Flickr8k_text/readme.txt\n",
            " create mode 100644 drive/MyDrive/TB-Resume (1).pdf\n",
            " create mode 100644 drive/MyDrive/TB-Resume.pdf\n",
            " create mode 100644 drive/MyDrive/Tanveer_DA_CV.pdf\n",
            " create mode 100644 drive/MyDrive/Tanveer_finalyr_resume.pdf\n",
            " create mode 100644 drive/MyDrive/stacksample/Answers.csv\n",
            " create mode 100644 drive/MyDrive/stacksample/Questions.csv\n",
            " create mode 100644 drive/MyDrive/stacksample/Tags.csv\n",
            " create mode 100644 nltk_data/corpora/omw-1.4.zip\n",
            " create mode 100644 nltk_data/corpora/stopwords.zip\n",
            " create mode 100644 nltk_data/corpora/stopwords/README\n",
            " create mode 100644 nltk_data/corpora/stopwords/arabic\n",
            " create mode 100644 nltk_data/corpora/stopwords/azerbaijani\n",
            " create mode 100644 nltk_data/corpora/stopwords/basque\n",
            " create mode 100644 nltk_data/corpora/stopwords/bengali\n",
            " create mode 100644 nltk_data/corpora/stopwords/catalan\n",
            " create mode 100644 nltk_data/corpora/stopwords/chinese\n",
            " create mode 100644 nltk_data/corpora/stopwords/danish\n",
            " create mode 100644 nltk_data/corpora/stopwords/dutch\n",
            " create mode 100644 nltk_data/corpora/stopwords/english\n",
            " create mode 100644 nltk_data/corpora/stopwords/finnish\n",
            " create mode 100644 nltk_data/corpora/stopwords/french\n",
            " create mode 100644 nltk_data/corpora/stopwords/german\n",
            " create mode 100644 nltk_data/corpora/stopwords/greek\n",
            " create mode 100644 nltk_data/corpora/stopwords/hebrew\n",
            " create mode 100644 nltk_data/corpora/stopwords/hinglish\n",
            " create mode 100644 nltk_data/corpora/stopwords/hungarian\n",
            " create mode 100644 nltk_data/corpora/stopwords/indonesian\n",
            " create mode 100644 nltk_data/corpora/stopwords/italian\n",
            " create mode 100644 nltk_data/corpora/stopwords/kazakh\n",
            " create mode 100644 nltk_data/corpora/stopwords/nepali\n",
            " create mode 100644 nltk_data/corpora/stopwords/norwegian\n",
            " create mode 100644 nltk_data/corpora/stopwords/portuguese\n",
            " create mode 100644 nltk_data/corpora/stopwords/romanian\n",
            " create mode 100644 nltk_data/corpora/stopwords/russian\n",
            " create mode 100644 nltk_data/corpora/stopwords/slovene\n",
            " create mode 100644 nltk_data/corpora/stopwords/spanish\n",
            " create mode 100644 nltk_data/corpora/stopwords/swedish\n",
            " create mode 100644 nltk_data/corpora/stopwords/tajik\n",
            " create mode 100644 nltk_data/corpora/stopwords/turkish\n",
            " create mode 100644 nltk_data/corpora/wordnet.zip\n",
            " create mode 100644 nltk_data/taggers/averaged_perceptron_tagger.zip\n",
            " create mode 100644 nltk_data/taggers/averaged_perceptron_tagger/averaged_perceptron_tagger.pickle\n",
            " create mode 100644 nltk_data/tokenizers/punkt.zip\n",
            " create mode 100644 nltk_data/tokenizers/punkt/.DS_Store\n",
            " create mode 100644 nltk_data/tokenizers/punkt/PY3/README\n",
            " create mode 100644 nltk_data/tokenizers/punkt/PY3/czech.pickle\n",
            " create mode 100644 nltk_data/tokenizers/punkt/PY3/danish.pickle\n",
            " create mode 100644 nltk_data/tokenizers/punkt/PY3/dutch.pickle\n",
            " create mode 100644 nltk_data/tokenizers/punkt/PY3/english.pickle\n",
            " create mode 100644 nltk_data/tokenizers/punkt/PY3/estonian.pickle\n",
            " create mode 100644 nltk_data/tokenizers/punkt/PY3/finnish.pickle\n",
            " create mode 100644 nltk_data/tokenizers/punkt/PY3/french.pickle\n",
            " create mode 100644 nltk_data/tokenizers/punkt/PY3/german.pickle\n",
            " create mode 100644 nltk_data/tokenizers/punkt/PY3/greek.pickle\n",
            " create mode 100644 nltk_data/tokenizers/punkt/PY3/italian.pickle\n",
            " create mode 100644 nltk_data/tokenizers/punkt/PY3/malayalam.pickle\n",
            " create mode 100644 nltk_data/tokenizers/punkt/PY3/norwegian.pickle\n",
            " create mode 100644 nltk_data/tokenizers/punkt/PY3/polish.pickle\n",
            " create mode 100644 nltk_data/tokenizers/punkt/PY3/portuguese.pickle\n",
            " create mode 100644 nltk_data/tokenizers/punkt/PY3/russian.pickle\n",
            " create mode 100644 nltk_data/tokenizers/punkt/PY3/slovene.pickle\n",
            " create mode 100644 nltk_data/tokenizers/punkt/PY3/spanish.pickle\n",
            " create mode 100644 nltk_data/tokenizers/punkt/PY3/swedish.pickle\n",
            " create mode 100644 nltk_data/tokenizers/punkt/PY3/turkish.pickle\n",
            " create mode 100644 nltk_data/tokenizers/punkt/README\n",
            " create mode 100644 nltk_data/tokenizers/punkt/czech.pickle\n",
            " create mode 100644 nltk_data/tokenizers/punkt/danish.pickle\n",
            " create mode 100644 nltk_data/tokenizers/punkt/dutch.pickle\n",
            " create mode 100644 nltk_data/tokenizers/punkt/english.pickle\n",
            " create mode 100644 nltk_data/tokenizers/punkt/estonian.pickle\n",
            " create mode 100644 nltk_data/tokenizers/punkt/finnish.pickle\n",
            " create mode 100644 nltk_data/tokenizers/punkt/french.pickle\n",
            " create mode 100644 nltk_data/tokenizers/punkt/german.pickle\n",
            " create mode 100644 nltk_data/tokenizers/punkt/greek.pickle\n",
            " create mode 100644 nltk_data/tokenizers/punkt/italian.pickle\n",
            " create mode 100644 nltk_data/tokenizers/punkt/malayalam.pickle\n",
            " create mode 100644 nltk_data/tokenizers/punkt/norwegian.pickle\n",
            " create mode 100644 nltk_data/tokenizers/punkt/polish.pickle\n",
            " create mode 100644 nltk_data/tokenizers/punkt/portuguese.pickle\n",
            " create mode 100644 nltk_data/tokenizers/punkt/russian.pickle\n",
            " create mode 100644 nltk_data/tokenizers/punkt/slovene.pickle\n",
            " create mode 100644 nltk_data/tokenizers/punkt/spanish.pickle\n",
            " create mode 100644 nltk_data/tokenizers/punkt/swedish.pickle\n",
            " create mode 100644 nltk_data/tokenizers/punkt/turkish.pickle\n",
            " create mode 100755 sample_data/README.md\n",
            " create mode 100755 sample_data/anscombe.json\n",
            " create mode 100644 sample_data/california_housing_test.csv\n",
            " create mode 100644 sample_data/california_housing_train.csv\n",
            " create mode 100644 sample_data/mnist_test.csv\n",
            " create mode 100644 sample_data/mnist_train_small.csv\n",
            " create mode 100644 stopwords.zip\n"
          ]
        }
      ]
    },
    {
      "cell_type": "code",
      "source": [
        "!git remote -v\n"
      ],
      "metadata": {
        "colab": {
          "base_uri": "https://localhost:8080/"
        },
        "id": "BrQycv7gQCYQ",
        "outputId": "cd36b5bb-3318-4e30-f268-15f136647120"
      },
      "execution_count": 2,
      "outputs": [
        {
          "output_type": "stream",
          "name": "stdout",
          "text": [
            "fatal: not a git repository (or any of the parent directories): .git\n"
          ]
        }
      ]
    }
  ]
}